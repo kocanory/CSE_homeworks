{
 "cells": [
  {
   "cell_type": "code",
   "execution_count": null,
   "id": "21456330",
   "metadata": {},
   "outputs": [],
   "source": [
    "import numpy as np\n",
    "\n",
    "N = 9 # the number of training data\n",
    "X = np.array([[1.0,1.0,0.85,0.76],[1.0,1.0,0.0,0.24],[1.0,0.0,0.625,0.84],\n",
    "              [1.0,0.0,0.45,0.96],[1.0,1.0,0.225,0.46],[1.0,0.0,0.25,0.7],\n",
    "              [1.0,1.0,0.7,0.44],[1.0,0.0,0.3,0.4],[1.0,0.0,0.125,0.66]])\n",
    "y = np.array([1,0,1,1,0,0,1,0,1])\n",
    "w = np.array([0,0,0,0])\n",
    "learning_rate = 0.1\n",
    "iteration = 100\n",
    "\n",
    "# learning by gradient descent\n",
    "for i in range(iteration):\n",
    "\n",
    "    ### Fill In Your Code Here #################\n",
    "\n",
    "    # compute y_hat from X and w\n",
    "\n",
    "    # compute binary cross entropy loss and print\n",
    "    \n",
    "    # update w using X, y, y_hat\n",
    "\n",
    "    ############################################\n",
    "    \n",
    "# the learned model parameter\n",
    "print(f'w = {w}\\n')\n",
    "\n",
    "# new data x_tom for tom = (sex=M, age=24, income=2500)\n",
    "x_tom = np.array([1,1,0.1,0.5])\n",
    "print(f'x_tom = {x_tom}')\n",
    "\n",
    "### Fill In Your Code Here #################\n",
    "\n",
    "# compute y_tom_hat and print\n",
    "\n",
    "# print classification result\n",
    "\n",
    "############################################"
   ]
  },
  {
   "cell_type": "code",
   "execution_count": null,
   "id": "d88aa748",
   "metadata": {},
   "outputs": [],
   "source": []
  }
 ],
 "metadata": {
  "kernelspec": {
   "display_name": "Python 3 (ipykernel)",
   "language": "python",
   "name": "python3"
  },
  "language_info": {
   "codemirror_mode": {
    "name": "ipython",
    "version": 3
   },
   "file_extension": ".py",
   "mimetype": "text/x-python",
   "name": "python",
   "nbconvert_exporter": "python",
   "pygments_lexer": "ipython3",
   "version": "3.9.12"
  }
 },
 "nbformat": 4,
 "nbformat_minor": 5
}
