{
 "cells": [
  {
   "cell_type": "markdown",
   "metadata": {},
   "source": [
    "# Training a Multi-layer Neural Networks"
   ]
  },
  {
   "cell_type": "markdown",
   "metadata": {},
   "source": [
    "### Load MNIST Dataset"
   ]
  },
  {
   "cell_type": "code",
   "execution_count": 4,
   "metadata": {},
   "outputs": [
    {
     "data": {
      "text/plain": [
       "{'__header__': b'MATLAB 5.0 MAT-file Platform: posix, Created on: Sun Mar 30 03:19:02 2014',\n",
       " '__version__': '1.0',\n",
       " '__globals__': [],\n",
       " 'mldata_descr_ordering': array([[array(['label'], dtype='<U5'), array(['data'], dtype='<U4')]],\n",
       "       dtype=object),\n",
       " 'data': array([[0, 0, 0, ..., 0, 0, 0],\n",
       "        [0, 0, 0, ..., 0, 0, 0],\n",
       "        [0, 0, 0, ..., 0, 0, 0],\n",
       "        ...,\n",
       "        [0, 0, 0, ..., 0, 0, 0],\n",
       "        [0, 0, 0, ..., 0, 0, 0],\n",
       "        [0, 0, 0, ..., 0, 0, 0]], dtype=uint8),\n",
       " 'label': array([[0., 0., 0., ..., 9., 9., 9.]])}"
      ]
     },
     "execution_count": 4,
     "metadata": {},
     "output_type": "execute_result"
    }
   ],
   "source": [
    "# from sklearn.datasets import fetch_mldata\n",
    "import matplotlib.pyplot as plt\n",
    "import numpy as np\n",
    "from scipy import io\n",
    "\n",
    "mnist = io.loadmat('mnist-original.mat')\n",
    "mnist"
   ]
  },
  {
   "cell_type": "markdown",
   "metadata": {},
   "source": [
    "### Splitting data"
   ]
  },
  {
   "cell_type": "code",
   "execution_count": 5,
   "metadata": {},
   "outputs": [
    {
     "data": {
      "text/plain": [
       "(784, 70000)"
      ]
     },
     "execution_count": 5,
     "metadata": {},
     "output_type": "execute_result"
    }
   ],
   "source": [
    "X, y = mnist['data'], mnist['label']\n",
    "X.shape"
   ]
  },
  {
   "cell_type": "code",
   "execution_count": 6,
   "metadata": {},
   "outputs": [
    {
     "data": {
      "text/plain": [
       "(1, 70000)"
      ]
     },
     "execution_count": 6,
     "metadata": {},
     "output_type": "execute_result"
    }
   ],
   "source": [
    "y.shape"
   ]
  },
  {
   "cell_type": "code",
   "execution_count": 7,
   "metadata": {},
   "outputs": [
    {
     "data": {
      "text/plain": [
       "(70000, 784)"
      ]
     },
     "execution_count": 7,
     "metadata": {},
     "output_type": "execute_result"
    }
   ],
   "source": [
    "X = np.array(X).T # transpose\n",
    "X.shape"
   ]
  },
  {
   "cell_type": "code",
   "execution_count": 8,
   "metadata": {},
   "outputs": [
    {
     "data": {
      "text/plain": [
       "(70000, 1)"
      ]
     },
     "execution_count": 8,
     "metadata": {},
     "output_type": "execute_result"
    }
   ],
   "source": [
    "y = np.array(y).T\n",
    "y.shape"
   ]
  },
  {
   "cell_type": "code",
   "execution_count": 9,
   "metadata": {},
   "outputs": [
    {
     "data": {
      "text/plain": [
       "array([  0,   0,   0,   0,   0,   0,   0,   0,   0,   0,   0,   0,   0,\n",
       "         0,   0,   0,   0,   0,   0,   0,   0,   0,   0,   0,   0,   0,\n",
       "         0,   0,   0,   0,   0,   0,   0,   0,   0,   0,   0,   0,   0,\n",
       "         0,   0,   0,   0,   0,   0,   0,   0,   0,   0,   0,   0,   0,\n",
       "         0,   0,   0,   0,   0,   0,   0,   0,   0,   0,   0,   0,   0,\n",
       "         0,   0,   0,   0,   0,   0,   0,   0,   0,   0,   0,   0,   0,\n",
       "         0,   0,   0,   0,   0,   0,   0,   0,   0,   0,   0,   0,   0,\n",
       "         0,   0,   0,   0,   0,   0,   0,   0,   0,   0,   0,   0,   0,\n",
       "         0,   0,   0,   0,   0,   0,   0,   0,   0,   0,   0,   0,   0,\n",
       "         0,   0,   0,   0,   0,   0,   0,   0,   0,   0,  51, 159, 253,\n",
       "       159,  50,   0,   0,   0,   0,   0,   0,   0,   0,   0,   0,   0,\n",
       "         0,   0,   0,   0,   0,   0,   0,   0,   0,   0,   0,  48, 238,\n",
       "       252, 252, 252, 237,   0,   0,   0,   0,   0,   0,   0,   0,   0,\n",
       "         0,   0,   0,   0,   0,   0,   0,   0,   0,   0,   0,   0,  54,\n",
       "       227, 253, 252, 239, 233, 252,  57,   6,   0,   0,   0,   0,   0,\n",
       "         0,   0,   0,   0,   0,   0,   0,   0,   0,   0,   0,   0,  10,\n",
       "        60, 224, 252, 253, 252, 202,  84, 252, 253, 122,   0,   0,   0,\n",
       "         0,   0,   0,   0,   0,   0,   0,   0,   0,   0,   0,   0,   0,\n",
       "         0, 163, 252, 252, 252, 253, 252, 252,  96, 189, 253, 167,   0,\n",
       "         0,   0,   0,   0,   0,   0,   0,   0,   0,   0,   0,   0,   0,\n",
       "         0,   0,  51, 238, 253, 253, 190, 114, 253, 228,  47,  79, 255,\n",
       "       168,   0,   0,   0,   0,   0,   0,   0,   0,   0,   0,   0,   0,\n",
       "         0,   0,   0,  48, 238, 252, 252, 179,  12,  75, 121,  21,   0,\n",
       "         0, 253, 243,  50,   0,   0,   0,   0,   0,   0,   0,   0,   0,\n",
       "         0,   0,   0,   0,  38, 165, 253, 233, 208,  84,   0,   0,   0,\n",
       "         0,   0,   0, 253, 252, 165,   0,   0,   0,   0,   0,   0,   0,\n",
       "         0,   0,   0,   0,   0,   7, 178, 252, 240,  71,  19,  28,   0,\n",
       "         0,   0,   0,   0,   0, 253, 252, 195,   0,   0,   0,   0,   0,\n",
       "         0,   0,   0,   0,   0,   0,   0,  57, 252, 252,  63,   0,   0,\n",
       "         0,   0,   0,   0,   0,   0,   0, 253, 252, 195,   0,   0,   0,\n",
       "         0,   0,   0,   0,   0,   0,   0,   0,   0, 198, 253, 190,   0,\n",
       "         0,   0,   0,   0,   0,   0,   0,   0,   0, 255, 253, 196,   0,\n",
       "         0,   0,   0,   0,   0,   0,   0,   0,   0,   0,  76, 246, 252,\n",
       "       112,   0,   0,   0,   0,   0,   0,   0,   0,   0,   0, 253, 252,\n",
       "       148,   0,   0,   0,   0,   0,   0,   0,   0,   0,   0,   0,  85,\n",
       "       252, 230,  25,   0,   0,   0,   0,   0,   0,   0,   0,   7, 135,\n",
       "       253, 186,  12,   0,   0,   0,   0,   0,   0,   0,   0,   0,   0,\n",
       "         0,  85, 252, 223,   0,   0,   0,   0,   0,   0,   0,   0,   7,\n",
       "       131, 252, 225,  71,   0,   0,   0,   0,   0,   0,   0,   0,   0,\n",
       "         0,   0,   0,  85, 252, 145,   0,   0,   0,   0,   0,   0,   0,\n",
       "        48, 165, 252, 173,   0,   0,   0,   0,   0,   0,   0,   0,   0,\n",
       "         0,   0,   0,   0,   0,  86, 253, 225,   0,   0,   0,   0,   0,\n",
       "         0, 114, 238, 253, 162,   0,   0,   0,   0,   0,   0,   0,   0,\n",
       "         0,   0,   0,   0,   0,   0,   0,  85, 252, 249, 146,  48,  29,\n",
       "        85, 178, 225, 253, 223, 167,  56,   0,   0,   0,   0,   0,   0,\n",
       "         0,   0,   0,   0,   0,   0,   0,   0,   0,  85, 252, 252, 252,\n",
       "       229, 215, 252, 252, 252, 196, 130,   0,   0,   0,   0,   0,   0,\n",
       "         0,   0,   0,   0,   0,   0,   0,   0,   0,   0,   0,  28, 199,\n",
       "       252, 252, 253, 252, 252, 233, 145,   0,   0,   0,   0,   0,   0,\n",
       "         0,   0,   0,   0,   0,   0,   0,   0,   0,   0,   0,   0,   0,\n",
       "         0,  25, 128, 252, 253, 252, 141,  37,   0,   0,   0,   0,   0,\n",
       "         0,   0,   0,   0,   0,   0,   0,   0,   0,   0,   0,   0,   0,\n",
       "         0,   0,   0,   0,   0,   0,   0,   0,   0,   0,   0,   0,   0,\n",
       "         0,   0,   0,   0,   0,   0,   0,   0,   0,   0,   0,   0,   0,\n",
       "         0,   0,   0,   0,   0,   0,   0,   0,   0,   0,   0,   0,   0,\n",
       "         0,   0,   0,   0,   0,   0,   0,   0,   0,   0,   0,   0,   0,\n",
       "         0,   0,   0,   0,   0,   0,   0,   0,   0,   0,   0,   0,   0,\n",
       "         0,   0,   0,   0,   0,   0,   0,   0,   0,   0,   0,   0,   0,\n",
       "         0,   0,   0,   0,   0,   0,   0,   0,   0,   0,   0,   0,   0,\n",
       "         0,   0,   0,   0,   0,   0,   0,   0,   0,   0,   0,   0,   0,\n",
       "         0,   0,   0,   0], dtype=uint8)"
      ]
     },
     "execution_count": 9,
     "metadata": {},
     "output_type": "execute_result"
    }
   ],
   "source": [
    "X[0]"
   ]
  },
  {
   "cell_type": "code",
   "execution_count": 10,
   "metadata": {},
   "outputs": [
    {
     "data": {
      "text/plain": [
       "array([0.])"
      ]
     },
     "execution_count": 10,
     "metadata": {},
     "output_type": "execute_result"
    }
   ],
   "source": [
    "y[0]"
   ]
  },
  {
   "cell_type": "code",
   "execution_count": 11,
   "metadata": {},
   "outputs": [
    {
     "data": {
      "text/plain": [
       "<function matplotlib.pyplot.plot(*args, scalex=True, scaley=True, data=None, **kwargs)>"
      ]
     },
     "execution_count": 11,
     "metadata": {},
     "output_type": "execute_result"
    },
    {
     "data": {
      "image/png": "[encoded data removed]",
      "text/plain": [
       "<Figure size 640x480 with 1 Axes>"
      ]
     },
     "metadata": {},
     "output_type": "display_data"
    }
   ],
   "source": [
    "%matplotlib inline \n",
    "ex1 = X[0] \n",
    "ex1_image = ex1.reshape(28, 28) \n",
    "plt.imshow(ex1_image) \n",
    "plt.plot"
   ]
  },
  {
   "cell_type": "code",
   "execution_count": 12,
   "metadata": {},
   "outputs": [],
   "source": [
    "X = X / 255.0"
   ]
  },
  {
   "cell_type": "code",
   "execution_count": 13,
   "metadata": {},
   "outputs": [],
   "source": [
    "# rescale the data, use the traditional train/test split\n",
    "X_train, X_test = X[:60000], X[60000:]\n",
    "y_train, y_test = y[:60000], y[60000:]"
   ]
  },
  {
   "cell_type": "markdown",
   "metadata": {},
   "source": [
    "### Building a Multi-layer Neural Networks and Training the model"
   ]
  },
  {
   "cell_type": "code",
   "execution_count": 14,
   "metadata": {},
   "outputs": [],
   "source": [
    "# Multi-layer neural network and backpropagation learning\n",
    "# Mini Batch Stochastic Gradient Descent\n",
    "class MLPbatch():\n",
    "    \n",
    "    def __init__(self, n_hidden=5, epochs=100, lr=0.1, batch_size=100):\n",
    "        self.n_hidden = n_hidden         # number of neurons in hidden layers\n",
    "        self.epochs = epochs             # number epochs\n",
    "        self.lr = lr                     # learning rate\n",
    "        self.batch_size = batch_size     # mini-batch size\n",
    "        \n",
    "    # sigmoid function\n",
    "    def sigmoid(self, z):\n",
    "        return (1.0 / (1.0 + np.exp(-z)))\n",
    "    \n",
    "    # change the class labels to one-hot\n",
    "    # [[0],       [[1, 0, 0, 0, 0, ...],\n",
    "    #  [2],  -->   [0, 0, 1, 0, 0, ...],\n",
    "    #  ...]        ...                 ]\n",
    "    def onehot_encoding(self, y):\n",
    "        \n",
    "        n_sample = y.shape[0]\n",
    "        n_class = np.unique(y).shape[0]\n",
    "        \n",
    "        y_enc = np.zeros((n_sample, n_class))\n",
    "        for idx, val in enumerate(y.astype(int)):\n",
    "            y_enc[idx, val] = 1.0\n",
    "            \n",
    "        return y_enc       \n",
    "\n",
    "    # forward computation\n",
    "    # h = sigmoid(xw + b)\n",
    "    # o = sigmoid(hw + b)\n",
    "    def forward(self, x):\n",
    "        \n",
    "        zx = np.dot(x, self.wx) + self.bx\n",
    "        h = self.sigmoid(zx)\n",
    "        \n",
    "        zh = np.dot(h, self.wh) + self.bh\n",
    "        o = self.sigmoid(zh)\n",
    "        \n",
    "        return zx, h, zh, o\n",
    "    \n",
    "    # loss = mean square error\n",
    "    def compute_loss(self, y, o):\n",
    "        \n",
    "        N = y.shape[0]\n",
    "        loss = 0.5 * np.sum((y - o)**2) / N\n",
    "        \n",
    "        return loss\n",
    "        \n",
    "    # backpropagation learning with training data\n",
    "    # initialize parameters and perform mini-batch stochastic gradient descent\n",
    "    def fit(self, X_train, y_train):\n",
    "        \n",
    "        n_sample = X_train.shape[0]             # number of taining data\n",
    "        n_feature = X_train.shape[1]            # number of features (number of inputs)\n",
    "        n_output = np.unique(y_train).shape[0]  # number of classes (number of outputs)\n",
    "        \n",
    "        # change y to one-hot encoding\n",
    "        y_train_enc = self.onehot_encoding(y_train)\n",
    "\n",
    "        # initializing parameters w and b for each layer\n",
    "        # wx: [784, n_hidden], bx: [1, n_hidden]\n",
    "        # wh: [n_hidden, 10], bx: [1, 10]\n",
    "        self.wx = np.random.normal(loc=0.0, scale=0.1, size=(n_feature, self.n_hidden))\n",
    "        self.bx = np.zeros((1, self.n_hidden))\n",
    "         \n",
    "        self.wh = np.random.normal(loc=0.0, scale=0.1, size=(self.n_hidden, n_output))\n",
    "        self.bh = np.zeros((1, n_output))\n",
    "        \n",
    "        for e in range(self.epochs):\n",
    "            \n",
    "            # update parameters for batch of sample data\n",
    "            for start_idx in range(0, n_sample-self.batch_size+1, self.batch_size):\n",
    "                \n",
    "                # x: [batch_size, 784], y: [batch_size, 10]\n",
    "                x = X_train[start_idx : start_idx + self.batch_size]\n",
    "                y = y_train_enc[start_idx : start_idx + self.batch_size]\n",
    "\n",
    "                # compute h: [batch_size, n_hidden] and o: [batch_size, 10]\n",
    "                zx, h, zh, o = self.forward(x)\n",
    "                                \n",
    "                # compute deltas and update parameters\n",
    "                # delta_o: [batch_size, 10], delta_h: [batch_size, n_hidden]\n",
    "                \n",
    "                delta_o = (y - o) * o * (1 - o)\n",
    "                delta_h = (delta_o @ np.transpose(self.wh)) * h * (1 - h)\n",
    "\n",
    "                self.wh += ((np.transpose(h) @ delta_o) * self.lr)\n",
    "                self.bh += (np.sum(delta_o, axis=0, keepdims=True) * self.lr)\n",
    "                 \n",
    "                self.wx += ((np.transpose(x) @ delta_h) * self.lr)\n",
    "                self.bx += (np.sum(delta_h, axis=0, keepdims=True) * self.lr)    \n",
    "\n",
    "                \n",
    "            # compute average error and accuracy for each epoch, and show\n",
    "            zx, h, zh, o = self.forward(X_train)\n",
    "            mse = self.compute_loss(y_train_enc, o) \n",
    "            \n",
    "            y_train_pred = self.predict(X_train).reshape(-1, 1)\n",
    "            train_acc = np.sum(y_train == y_train_pred) / n_sample\n",
    "            \n",
    "            print(\"Epoch %d MSE: %.2f Accuracy: %.2f\" % (e, mse, train_acc))\n",
    "         \n",
    "    # predict class of x using the learned model\n",
    "    def predict(self, x):\n",
    "        \n",
    "        zx, h, zh, o = self.forward(x)\n",
    "        y_pred = np.argmax(o, axis=1)\n",
    "        \n",
    "        return y_pred\n",
    "    "
   ]
  },
  {
   "cell_type": "code",
   "execution_count": 15,
   "metadata": {},
   "outputs": [
    {
     "name": "stdout",
     "output_type": "stream",
     "text": [
      "Epoch 0 MSE: 0.87 Accuracy: 0.10\n",
      "Epoch 1 MSE: 0.83 Accuracy: 0.10\n",
      "Epoch 2 MSE: 0.76 Accuracy: 0.10\n",
      "Epoch 3 MSE: 0.70 Accuracy: 0.10\n",
      "Epoch 4 MSE: 0.66 Accuracy: 0.12\n",
      "Epoch 5 MSE: 0.64 Accuracy: 0.15\n",
      "Epoch 6 MSE: 0.61 Accuracy: 0.18\n",
      "Epoch 7 MSE: 0.60 Accuracy: 0.21\n",
      "Epoch 8 MSE: 0.58 Accuracy: 0.23\n",
      "Epoch 9 MSE: 0.57 Accuracy: 0.24\n",
      "Epoch 10 MSE: 0.56 Accuracy: 0.26\n",
      "Epoch 11 MSE: 0.55 Accuracy: 0.27\n",
      "Epoch 12 MSE: 0.55 Accuracy: 0.27\n",
      "Epoch 13 MSE: 0.54 Accuracy: 0.28\n",
      "Epoch 14 MSE: 0.54 Accuracy: 0.29\n",
      "Epoch 15 MSE: 0.53 Accuracy: 0.31\n",
      "Epoch 16 MSE: 0.53 Accuracy: 0.32\n",
      "Epoch 17 MSE: 0.52 Accuracy: 0.33\n",
      "Epoch 18 MSE: 0.51 Accuracy: 0.34\n",
      "Epoch 19 MSE: 0.51 Accuracy: 0.34\n",
      "Epoch 20 MSE: 0.50 Accuracy: 0.35\n",
      "Epoch 21 MSE: 0.49 Accuracy: 0.36\n",
      "Epoch 22 MSE: 0.48 Accuracy: 0.37\n",
      "Epoch 23 MSE: 0.47 Accuracy: 0.38\n",
      "Epoch 24 MSE: 0.46 Accuracy: 0.39\n",
      "Epoch 25 MSE: 0.45 Accuracy: 0.40\n",
      "Epoch 26 MSE: 0.44 Accuracy: 0.41\n",
      "Epoch 27 MSE: 0.44 Accuracy: 0.42\n",
      "Epoch 28 MSE: 0.44 Accuracy: 0.42\n",
      "Epoch 29 MSE: 0.43 Accuracy: 0.43\n",
      "Epoch 30 MSE: 0.43 Accuracy: 0.44\n",
      "Epoch 31 MSE: 0.42 Accuracy: 0.44\n",
      "Epoch 32 MSE: 0.42 Accuracy: 0.45\n",
      "Epoch 33 MSE: 0.43 Accuracy: 0.44\n",
      "Epoch 34 MSE: 0.43 Accuracy: 0.44\n",
      "Epoch 35 MSE: 0.43 Accuracy: 0.44\n",
      "Epoch 36 MSE: 0.43 Accuracy: 0.45\n",
      "Epoch 37 MSE: 0.43 Accuracy: 0.45\n",
      "Epoch 38 MSE: 0.42 Accuracy: 0.46\n",
      "Epoch 39 MSE: 0.42 Accuracy: 0.46\n",
      "Epoch 40 MSE: 0.41 Accuracy: 0.47\n",
      "Epoch 41 MSE: 0.41 Accuracy: 0.47\n",
      "Epoch 42 MSE: 0.40 Accuracy: 0.48\n",
      "Epoch 43 MSE: 0.40 Accuracy: 0.49\n",
      "Epoch 44 MSE: 0.40 Accuracy: 0.49\n",
      "Epoch 45 MSE: 0.39 Accuracy: 0.50\n",
      "Epoch 46 MSE: 0.39 Accuracy: 0.50\n",
      "Epoch 47 MSE: 0.38 Accuracy: 0.51\n",
      "Epoch 48 MSE: 0.38 Accuracy: 0.51\n",
      "Epoch 49 MSE: 0.38 Accuracy: 0.51\n",
      "Epoch 50 MSE: 0.37 Accuracy: 0.52\n",
      "Epoch 51 MSE: 0.37 Accuracy: 0.53\n",
      "Epoch 52 MSE: 0.37 Accuracy: 0.53\n",
      "Epoch 53 MSE: 0.36 Accuracy: 0.54\n",
      "Epoch 54 MSE: 0.36 Accuracy: 0.54\n",
      "Epoch 55 MSE: 0.35 Accuracy: 0.55\n",
      "Epoch 56 MSE: 0.35 Accuracy: 0.56\n",
      "Epoch 57 MSE: 0.34 Accuracy: 0.57\n",
      "Epoch 58 MSE: 0.33 Accuracy: 0.57\n",
      "Epoch 59 MSE: 0.33 Accuracy: 0.58\n",
      "Epoch 60 MSE: 0.32 Accuracy: 0.59\n",
      "Epoch 61 MSE: 0.32 Accuracy: 0.59\n",
      "Epoch 62 MSE: 0.31 Accuracy: 0.60\n",
      "Epoch 63 MSE: 0.31 Accuracy: 0.61\n",
      "Epoch 64 MSE: 0.30 Accuracy: 0.61\n",
      "Epoch 65 MSE: 0.30 Accuracy: 0.62\n",
      "Epoch 66 MSE: 0.30 Accuracy: 0.62\n",
      "Epoch 67 MSE: 0.29 Accuracy: 0.63\n",
      "Epoch 68 MSE: 0.29 Accuracy: 0.63\n",
      "Epoch 69 MSE: 0.29 Accuracy: 0.64\n",
      "Epoch 70 MSE: 0.28 Accuracy: 0.64\n",
      "Epoch 71 MSE: 0.28 Accuracy: 0.64\n",
      "Epoch 72 MSE: 0.28 Accuracy: 0.65\n",
      "Epoch 73 MSE: 0.28 Accuracy: 0.65\n",
      "Epoch 74 MSE: 0.28 Accuracy: 0.65\n",
      "Epoch 75 MSE: 0.27 Accuracy: 0.66\n",
      "Epoch 76 MSE: 0.27 Accuracy: 0.66\n",
      "Epoch 77 MSE: 0.27 Accuracy: 0.66\n",
      "Epoch 78 MSE: 0.27 Accuracy: 0.67\n",
      "Epoch 79 MSE: 0.26 Accuracy: 0.67\n",
      "Epoch 80 MSE: 0.26 Accuracy: 0.67\n",
      "Epoch 81 MSE: 0.26 Accuracy: 0.68\n",
      "Epoch 82 MSE: 0.26 Accuracy: 0.68\n",
      "Epoch 83 MSE: 0.26 Accuracy: 0.68\n",
      "Epoch 84 MSE: 0.25 Accuracy: 0.68\n",
      "Epoch 85 MSE: 0.25 Accuracy: 0.69\n",
      "Epoch 86 MSE: 0.25 Accuracy: 0.69\n",
      "Epoch 87 MSE: 0.25 Accuracy: 0.69\n",
      "Epoch 88 MSE: 0.25 Accuracy: 0.69\n",
      "Epoch 89 MSE: 0.26 Accuracy: 0.68\n",
      "Epoch 90 MSE: 0.26 Accuracy: 0.68\n",
      "Epoch 91 MSE: 0.26 Accuracy: 0.68\n",
      "Epoch 92 MSE: 0.26 Accuracy: 0.68\n",
      "Epoch 93 MSE: 0.26 Accuracy: 0.68\n",
      "Epoch 94 MSE: 0.26 Accuracy: 0.68\n",
      "Epoch 95 MSE: 0.26 Accuracy: 0.69\n",
      "Epoch 96 MSE: 0.26 Accuracy: 0.69\n",
      "Epoch 97 MSE: 0.26 Accuracy: 0.69\n",
      "Epoch 98 MSE: 0.26 Accuracy: 0.69\n",
      "Epoch 99 MSE: 0.25 Accuracy: 0.69\n"
     ]
    }
   ],
   "source": [
    "# create the model with hidden layer neuron 50, epochs 100, learning rate 0.01, batch size 100\n",
    "model = MLPbatch(n_hidden=50, epochs=100, lr=0.01, batch_size=100)\n",
    "\n",
    "# backpropagation learning with the training data\n",
    "model.fit(X_train, y_train)"
   ]
  },
  {
   "cell_type": "markdown",
   "metadata": {},
   "source": [
    "### Prediction using the model"
   ]
  },
  {
   "cell_type": "code",
   "execution_count": 16,
   "metadata": {},
   "outputs": [
    {
     "data": {
      "text/plain": [
       "<function matplotlib.pyplot.plot(*args, scalex=True, scaley=True, data=None, **kwargs)>"
      ]
     },
     "execution_count": 16,
     "metadata": {},
     "output_type": "execute_result"
    },
    {
     "data": {
      "image/png": "[encoded data removed]",
      "text/plain": [
       "<Figure size 640x480 with 1 Axes>"
      ]
     },
     "metadata": {},
     "output_type": "display_data"
    }
   ],
   "source": [
    "%matplotlib inline \n",
    "ex1 = X[35000] \n",
    "ex1_image = ex1.reshape(28, 28) \n",
    "plt.imshow(ex1_image) \n",
    "plt.plot"
   ]
  },
  {
   "cell_type": "code",
   "execution_count": 17,
   "metadata": {},
   "outputs": [
    {
     "data": {
      "text/plain": [
       "array([5], dtype=int64)"
      ]
     },
     "execution_count": 17,
     "metadata": {},
     "output_type": "execute_result"
    }
   ],
   "source": [
    "model.predict([ex1])"
   ]
  },
  {
   "cell_type": "code",
   "execution_count": 18,
   "metadata": {},
   "outputs": [
    {
     "data": {
      "text/plain": [
       "<function matplotlib.pyplot.plot(*args, scalex=True, scaley=True, data=None, **kwargs)>"
      ]
     },
     "execution_count": 18,
     "metadata": {},
     "output_type": "execute_result"
    },
    {
     "data": {
      "image/png": "[encoded data removed]",
      "text/plain": [
       "<Figure size 640x480 with 1 Axes>"
      ]
     },
     "metadata": {},
     "output_type": "display_data"
    }
   ],
   "source": [
    "%matplotlib inline \n",
    "ex2 = X[50000] \n",
    "ex2_image = ex2.reshape(28, 28) \n",
    "plt.imshow(ex2_image) \n",
    "plt.plot"
   ]
  },
  {
   "cell_type": "code",
   "execution_count": 19,
   "metadata": {},
   "outputs": [
    {
     "data": {
      "text/plain": [
       "array([8], dtype=int64)"
      ]
     },
     "execution_count": 19,
     "metadata": {},
     "output_type": "execute_result"
    }
   ],
   "source": [
    "model.predict([ex2])"
   ]
  },
  {
   "cell_type": "code",
   "execution_count": null,
   "metadata": {},
   "outputs": [],
   "source": []
  }
 ],
 "metadata": {
  "kernelspec": {
   "display_name": "Python 3.10.4 64-bit",
   "language": "python",
   "name": "python3"
  },
  "language_info": {
   "codemirror_mode": {
    "name": "ipython",
    "version": 3
   },
   "file_extension": ".py",
   "mimetype": "text/x-python",
   "name": "python",
   "nbconvert_exporter": "python",
   "pygments_lexer": "ipython3",
   "version": "3.10.4"
  },
  "vscode": {
   "interpreter": {
    "hash": "26de051ba29f2982a8de78e945f0abaf191376122a1563185a90213a26c5da77"
   }
  }
 },
 "nbformat": 4,
 "nbformat_minor": 2
}
