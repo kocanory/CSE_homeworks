{
 "cells": [
  {
   "cell_type": "markdown",
   "metadata": {},
   "source": [
    "# Week01 : Python Programming Basics"
   ]
  },
  {
   "attachments": {},
   "cell_type": "markdown",
   "metadata": {},
   "source": [
    "- **Student ID** : 2018112007\n",
    "- **Name** : 이승현"
   ]
  },
  {
   "cell_type": "markdown",
   "metadata": {},
   "source": [
    "- Write and run the code below (including Quiz) in jupyter notebook\n",
    "- After completion, rename the file, and summit the file to e-class\n",
    "- Submit file name : **“Week01_\\<StudentID\\>_\\<Name\\>.ipynb”**\n",
    "  - Ex) Week01\\_2020123456\\_홍길동.ipynb\n",
    "- Due : **Saturday 11:59pm**"
   ]
  },
  {
   "cell_type": "markdown",
   "metadata": {},
   "source": [
    "# Markdown\n",
    "- When you select 'Markdown', you can edit the contents using Markdown language. Then run the cell\n",
    "- You can double click the Markdown cell to edit the contents\n",
    "- Try double click this cell !"
   ]
  },
  {
   "cell_type": "markdown",
   "metadata": {},
   "source": [
    "---"
   ]
  },
  {
   "cell_type": "markdown",
   "metadata": {},
   "source": [
    "# Comments\n",
    "- Some sentences to explain the codes\n",
    "- Comments are not included in the codes"
   ]
  },
  {
   "cell_type": "code",
   "execution_count": 2,
   "metadata": {},
   "outputs": [
    {
     "name": "stdout",
     "output_type": "stream",
     "text": [
      "hello\n"
     ]
    }
   ],
   "source": [
    "# Type Comments\n",
    "'''hello'''\n",
    "#hello\n",
    "\n",
    "# print a string\n",
    "print(\"hello\") "
   ]
  },
  {
   "cell_type": "markdown",
   "metadata": {},
   "source": [
    "---"
   ]
  },
  {
   "cell_type": "markdown",
   "metadata": {},
   "source": [
    "# Constants\n",
    "* **Fixed values**(unchangeable numbers, strings etc)\n",
    "* **Datatypes**"
   ]
  },
  {
   "cell_type": "markdown",
   "metadata": {},
   "source": [
    "**1. Numbers**\n",
    "   - Integer: -2, 0, 100\n",
    "   - Real numbers: -2.5, 0.0, 99.9"
   ]
  },
  {
   "cell_type": "code",
   "execution_count": 3,
   "metadata": {},
   "outputs": [
    {
     "data": {
      "text/plain": [
       "3"
      ]
     },
     "execution_count": 3,
     "metadata": {},
     "output_type": "execute_result"
    }
   ],
   "source": [
    "# run 1 + 2\n",
    "1 + 2"
   ]
  },
  {
   "cell_type": "code",
   "execution_count": 4,
   "metadata": {
    "jupyter": {
     "outputs_hidden": false
    }
   },
   "outputs": [
    {
     "name": "stdout",
     "output_type": "stream",
     "text": [
      "3\n",
      "0.3333333333333333\n"
     ]
    }
   ],
   "source": [
    "# print the output of 1 + 2\n",
    "print(1 + 2)\n",
    "\n",
    "# print the output of 1.0 / 3.0\n",
    "print(1.0 /3.0)"
   ]
  },
  {
   "cell_type": "markdown",
   "metadata": {},
   "source": [
    "**2. String**  \n",
    "  - Single/double quotation marks(' or \")\n",
    "  - ‘hello’, “hello” "
   ]
  },
  {
   "cell_type": "code",
   "execution_count": 5,
   "metadata": {
    "jupyter": {
     "outputs_hidden": false
    }
   },
   "outputs": [
    {
     "name": "stdout",
     "output_type": "stream",
     "text": [
      "Machine Learning\n"
     ]
    }
   ],
   "source": [
    "# print two strings 'Machine' and 'Learning'\n",
    "print(\"Machine\", \"Learning\")"
   ]
  },
  {
   "cell_type": "markdown",
   "metadata": {},
   "source": [
    "**3. Logical**  \n",
    "  - True, False"
   ]
  },
  {
   "cell_type": "code",
   "execution_count": 7,
   "metadata": {},
   "outputs": [
    {
     "name": "stdout",
     "output_type": "stream",
     "text": [
      "True False\n"
     ]
    }
   ],
   "source": [
    "# print two boolean values True and False\n",
    "print(True, False) # Boolean"
   ]
  },
  {
   "cell_type": "markdown",
   "metadata": {},
   "source": [
    "**4. Special**\n",
    "  - None"
   ]
  },
  {
   "cell_type": "code",
   "execution_count": 8,
   "metadata": {
    "jupyter": {
     "outputs_hidden": false
    },
    "scrolled": true
   },
   "outputs": [
    {
     "name": "stdout",
     "output_type": "stream",
     "text": [
      "None\n"
     ]
    }
   ],
   "source": [
    "# print special value None\n",
    "print(None)"
   ]
  },
  {
   "cell_type": "markdown",
   "metadata": {},
   "source": [
    "* **Data Type Check : type()**"
   ]
  },
  {
   "cell_type": "code",
   "execution_count": 9,
   "metadata": {},
   "outputs": [
    {
     "data": {
      "text/plain": [
       "int"
      ]
     },
     "execution_count": 9,
     "metadata": {},
     "output_type": "execute_result"
    }
   ],
   "source": [
    "# check the data type of an integer 100\n",
    "type(100)"
   ]
  },
  {
   "cell_type": "code",
   "execution_count": 1,
   "metadata": {},
   "outputs": [
    {
     "data": {
      "text/plain": [
       "str"
      ]
     },
     "execution_count": 1,
     "metadata": {},
     "output_type": "execute_result"
    }
   ],
   "source": [
    "# check the data type of a string 'Machine Learning'\n",
    "type('Machine Learning')"
   ]
  },
  {
   "cell_type": "markdown",
   "metadata": {},
   "source": [
    "- **Dynamic Typing** "
   ]
  },
  {
   "cell_type": "code",
   "execution_count": 11,
   "metadata": {},
   "outputs": [
    {
     "data": {
      "text/plain": [
       "float"
      ]
     },
     "execution_count": 11,
     "metadata": {},
     "output_type": "execute_result"
    }
   ],
   "source": [
    "# add an integer 10 and a float number 0.1 and check their type\n",
    "type(10 + 0.1)"
   ]
  },
  {
   "cell_type": "markdown",
   "metadata": {},
   "source": [
    "* **Casting**"
   ]
  },
  {
   "cell_type": "code",
   "execution_count": 12,
   "metadata": {},
   "outputs": [
    {
     "data": {
      "text/plain": [
       "10"
      ]
     },
     "execution_count": 12,
     "metadata": {},
     "output_type": "execute_result"
    }
   ],
   "source": [
    "# cast a float number 10.4 to an integers\n",
    "int(10.4)"
   ]
  },
  {
   "cell_type": "markdown",
   "metadata": {},
   "source": [
    "---"
   ]
  },
  {
   "cell_type": "markdown",
   "metadata": {},
   "source": [
    "# Variables\n",
    "- **Named memory to store values**\n",
    "  - Name consist of alpha-numeric characters and underscores (A-z, 0-9, and _ )\n",
    "  - Name cannot start with a number"
   ]
  },
  {
   "cell_type": "code",
   "execution_count": 15,
   "metadata": {
    "jupyter": {
     "outputs_hidden": false
    }
   },
   "outputs": [
    {
     "name": "stdout",
     "output_type": "stream",
     "text": [
      "50\n"
     ]
    },
    {
     "data": {
      "text/plain": [
       "int"
      ]
     },
     "execution_count": 15,
     "metadata": {},
     "output_type": "execute_result"
    }
   ],
   "source": [
    "x = 20\n",
    "y = 30\n",
    "z = x + y\n",
    "\n",
    "# print z\n",
    "print(z)\n",
    "\n",
    "# check the data type of z\n",
    "type(z)"
   ]
  },
  {
   "cell_type": "code",
   "execution_count": 2,
   "metadata": {},
   "outputs": [
    {
     "name": "stdout",
     "output_type": "stream",
     "text": [
      "Hello world!\n"
     ]
    },
    {
     "data": {
      "text/plain": [
       "str"
      ]
     },
     "execution_count": 2,
     "metadata": {},
     "output_type": "execute_result"
    }
   ],
   "source": [
    "s1 = \"Hello \"\n",
    "s2 = \"world!\"\n",
    "\n",
    "# print s1 + s2\n",
    "print(s1 + s2)\n",
    "\n",
    "# check the data type of s1 + s2\n",
    "type(s1 + s2)"
   ]
  },
  {
   "cell_type": "markdown",
   "metadata": {},
   "source": [
    "* **Basic opeartion of string**"
   ]
  },
  {
   "cell_type": "code",
   "execution_count": 3,
   "metadata": {},
   "outputs": [
    {
     "name": "stdout",
     "output_type": "stream",
     "text": [
      "====================\n"
     ]
    }
   ],
   "source": [
    "# print \"====================\" using string multiplication\n",
    "line = \"=\" * 20\n",
    "print(line)"
   ]
  },
  {
   "cell_type": "code",
   "execution_count": 4,
   "metadata": {},
   "outputs": [
    {
     "name": "stdout",
     "output_type": "stream",
     "text": [
      "20\n"
     ]
    }
   ],
   "source": [
    "# use len() to get the length of the string ml\n",
    "print(len(line))"
   ]
  },
  {
   "cell_type": "markdown",
   "metadata": {},
   "source": [
    "---"
   ]
  },
  {
   "cell_type": "markdown",
   "metadata": {},
   "source": [
    "# Conditional Statements\n",
    "\n",
    "* **If**  \n",
    "  - If statement is control flow statements which helps us to run a particular code only when a certain condition is satisfied.\n",
    "\n",
    "\n",
    ">**Note**\n",
    ">- In Python, **blocks are marked as indentations** in functions, iteration statements and conditional statements, etc.\n",
    ">- It is strongly recommended that **you do not use the tab** (system-specific but high probability output an error). The PEP-8 is the official coding guide recommends **four spaces with space bar**. However, various IDEs such as Jupyter lab, Pycham, and others automatically do identation."
   ]
  },
  {
   "cell_type": "code",
   "execution_count": 5,
   "metadata": {},
   "outputs": [
    {
     "name": "stdout",
     "output_type": "stream",
     "text": [
      "medium\n"
     ]
    }
   ],
   "source": [
    "# convert user input to integer\n",
    "x = int(input())\n",
    "\n",
    "# check the conditions of x\n",
    "# if x < 10, print 'small'\n",
    "# else if x < 100, print 'medium'\n",
    "# else (100 <= x), print 'large'\n",
    "\n",
    "if x < 10: \n",
    "    print('small') \n",
    "elif x < 100: \n",
    "    print('medium') \n",
    "else: \n",
    "    print('large') "
   ]
  },
  {
   "cell_type": "markdown",
   "metadata": {},
   "source": [
    "* **Boolean Operator**"
   ]
  },
  {
   "cell_type": "markdown",
   "metadata": {},
   "source": [
    "**1. and (&)**"
   ]
  },
  {
   "cell_type": "code",
   "execution_count": 6,
   "metadata": {},
   "outputs": [
    {
     "data": {
      "text/plain": [
       "False"
      ]
     },
     "execution_count": 6,
     "metadata": {},
     "output_type": "execute_result"
    }
   ],
   "source": [
    "# use and to compare two conditions\n",
    "(1 == 1) and (1 == 0)"
   ]
  },
  {
   "cell_type": "markdown",
   "metadata": {},
   "source": [
    "**2. or(|)**"
   ]
  },
  {
   "cell_type": "code",
   "execution_count": 7,
   "metadata": {},
   "outputs": [
    {
     "data": {
      "text/plain": [
       "True"
      ]
     },
     "execution_count": 7,
     "metadata": {},
     "output_type": "execute_result"
    }
   ],
   "source": [
    "# use or to compare two conditions\n",
    "(1 == 1) or (1 == 0)"
   ]
  },
  {
   "cell_type": "markdown",
   "metadata": {},
   "source": [
    "**3. not**"
   ]
  },
  {
   "cell_type": "code",
   "execution_count": 8,
   "metadata": {},
   "outputs": [
    {
     "data": {
      "text/plain": [
       "True"
      ]
     },
     "execution_count": 8,
     "metadata": {},
     "output_type": "execute_result"
    }
   ],
   "source": [
    "# use not to negate a condition\n",
    "not (1 == 0)"
   ]
  },
  {
   "cell_type": "markdown",
   "metadata": {},
   "source": [
    "---"
   ]
  },
  {
   "cell_type": "markdown",
   "metadata": {},
   "source": [
    "# Iteration Statements"
   ]
  },
  {
   "cell_type": "markdown",
   "metadata": {},
   "source": [
    "## while\n",
    "  - The while statement enables the execution of a body of statements multiple times in a loop while a certain condition is true."
   ]
  },
  {
   "cell_type": "code",
   "execution_count": 16,
   "metadata": {
    "jupyter": {
     "outputs_hidden": false
    }
   },
   "outputs": [
    {
     "name": "stdout",
     "output_type": "stream",
     "text": [
      "5\n",
      "4\n",
      "3\n",
      "2\n",
      "1\n"
     ]
    }
   ],
   "source": [
    "# while statement\n",
    "# print n from 5 to 1 using while n > 0\n",
    "\n",
    "n = 5\n",
    "while n > 0:\n",
    "    print(n)\n",
    "    n = n - 1"
   ]
  },
  {
   "cell_type": "code",
   "execution_count": 17,
   "metadata": {
    "jupyter": {
     "outputs_hidden": false
    }
   },
   "outputs": [
    {
     "name": "stdout",
     "output_type": "stream",
     "text": [
      "5\n",
      "4\n",
      "3\n",
      "2\n",
      "1\n"
     ]
    }
   ],
   "source": [
    "# infinite Loop with break statement\n",
    "# print n from 5 to 1 using while True and break if n <= 0\n",
    "\n",
    "n = 5\n",
    "while True:\n",
    "    if n <= 0:\n",
    "        break\n",
    "    print(n)\n",
    "    n = n - 1"
   ]
  },
  {
   "cell_type": "markdown",
   "metadata": {},
   "source": [
    "## for\n",
    "- for statement iterates over the items of any sequence (a list or a string), in the order that they appear in the sequence.\n",
    "- **list** : a compound data types like an array in C (will be addressed)"
   ]
  },
  {
   "cell_type": "code",
   "execution_count": 18,
   "metadata": {
    "jupyter": {
     "outputs_hidden": false
    }
   },
   "outputs": [
    {
     "name": "stdout",
     "output_type": "stream",
     "text": [
      "55\n"
     ]
    }
   ],
   "source": [
    "# sum of all numbers from 1 to 10\n",
    "total = 0 \n",
    "mylist = [1,2,3,4,5,6,7,8,9,10]\n",
    "\n",
    "# use for loop to sum all numbers in mylist\n",
    "for i in mylist:\n",
    "    total = total + i\n",
    "\n",
    "print(total)  "
   ]
  },
  {
   "cell_type": "markdown",
   "metadata": {},
   "source": [
    "- **range(n)** : it returns a list of the numbers that consists 0 to n-1\n"
   ]
  },
  {
   "cell_type": "code",
   "execution_count": 9,
   "metadata": {
    "jupyter": {
     "outputs_hidden": false
    }
   },
   "outputs": [
    {
     "name": "stdout",
     "output_type": "stream",
     "text": [
      "45\n"
     ]
    }
   ],
   "source": [
    "# sum of all numbers from 0 to 9\n",
    "total = 0 \n",
    "\n",
    "# use range() to get a list of numbers\n",
    "for i in range(0, 10):\n",
    "    total = total + i\n",
    "\n",
    "print(total)  "
   ]
  },
  {
   "cell_type": "markdown",
   "metadata": {},
   "source": [
    "---"
   ]
  },
  {
   "cell_type": "markdown",
   "metadata": {},
   "source": [
    "# Function\n",
    "- **A named section of a program that performs a specific task. It can takes some parameters. It is reusable code**\n",
    "  - **Built-in function(refer to the link below)**\n",
    "    - print(), input(), ...\n",
    "    - https://docs.python.org/3/library/functions.html\n",
    "  - **User-defined function**\n",
    "    > ```python\n",
    "    def function_name(arg_1, arg_2, …) :\n",
    "         # algorithms\n",
    "         return something\n",
    "  ```"
   ]
  },
  {
   "cell_type": "code",
   "execution_count": 11,
   "metadata": {
    "jupyter": {
     "outputs_hidden": false
    }
   },
   "outputs": [
    {
     "name": "stdout",
     "output_type": "stream",
     "text": [
      "It is 26.25 mile\n"
     ]
    }
   ],
   "source": [
    "# function to convert km to mile\n",
    "def km2mile(km):\n",
    "    mile = km / 1.6        # 1 mile == 1.6 km\n",
    "    return mile\n",
    "\n",
    "# get input and cast to float \n",
    "km = float(input(\"Input km : \"))\n",
    "\n",
    "# convert km to mile by calling the function\n",
    "mile = km2mile(km)\n",
    "\n",
    "print(f\"It is {mile} mile\")"
   ]
  },
  {
   "cell_type": "markdown",
   "metadata": {},
   "source": [
    "---"
   ]
  },
  {
   "cell_type": "markdown",
   "metadata": {},
   "source": [
    "# Container : List, Dict, Tuple, Set"
   ]
  },
  {
   "cell_type": "markdown",
   "metadata": {},
   "source": [
    "* **Container**\n",
    "  - Data structure for storing variables\n",
    "* **In python there are four data structures - lists, dict, tuple, and set**\n",
    "   - **list          [ , ]**\n",
    "   - **dict         { , }**\n",
    "   - **tuple      ( , )**\n",
    "   - **set          { , }**\n",
    "- When programming in python, it is important to understand the characteristics of the four containers and write the appropriate data structures for your situation"
   ]
  },
  {
   "cell_type": "markdown",
   "metadata": {},
   "source": [
    "---"
   ]
  },
  {
   "cell_type": "markdown",
   "metadata": {},
   "source": [
    "## List\n",
    "- **A list is a data structure that stores ordered sequence of items**\n",
    "  - It can be initialized as **[item1, item2, …]**\n",
    "  - It can be initialized by the function **‘list()’** and then append new item by the function **‘list.append(item)’**"
   ]
  },
  {
   "cell_type": "code",
   "execution_count": 12,
   "metadata": {
    "jupyter": {
     "outputs_hidden": false
    }
   },
   "outputs": [
    {
     "data": {
      "text/plain": [
       "['apple', 'banana', 'orange']"
      ]
     },
     "execution_count": 12,
     "metadata": {},
     "output_type": "execute_result"
    }
   ],
   "source": [
    "# make the list named 'fruits', [ \"apple\", \"banana\", \"orange\" ]\n",
    "fruits = [ \"apple\", \"banana\", \"orange\" ]\n",
    "fruits"
   ]
  },
  {
   "cell_type": "code",
   "execution_count": 13,
   "metadata": {},
   "outputs": [
    {
     "data": {
      "text/plain": [
       "['apple', 'banana', 'orange', 'kiwi']"
      ]
     },
     "execution_count": 13,
     "metadata": {},
     "output_type": "execute_result"
    }
   ],
   "source": [
    "# append 'kiwi' to the list 'fruits' \n",
    "fruits.append(\"kiwi\")\n",
    "fruits"
   ]
  },
  {
   "cell_type": "code",
   "execution_count": 14,
   "metadata": {
    "jupyter": {
     "outputs_hidden": false
    }
   },
   "outputs": [
    {
     "data": {
      "text/plain": [
       "'apple'"
      ]
     },
     "execution_count": 14,
     "metadata": {},
     "output_type": "execute_result"
    }
   ],
   "source": [
    "# print the first element of list 'fruits'\n",
    "fruits[0]"
   ]
  },
  {
   "cell_type": "markdown",
   "metadata": {},
   "source": [
    "- **Index of list**\n",
    "  - n:m : it means from 'n' to 'm-1'"
   ]
  },
  {
   "cell_type": "code",
   "execution_count": 36,
   "metadata": {},
   "outputs": [
    {
     "name": "stdout",
     "output_type": "stream",
     "text": [
      "20\n",
      "50\n",
      "[20, 30]\n",
      "[10, 20, 30]\n",
      "[40, 50]\n"
     ]
    }
   ],
   "source": [
    "# Indexing & Slicing (1)\n",
    "mylist = [10, 20, 30, 40, 50 ]\n",
    "\n",
    "# print index 1 element of the list\n",
    "print(mylist[1])\n",
    "\n",
    "# print last element of the list using index '-1'\n",
    "print(mylist[-1])\n",
    "\n",
    "# print index 1 to index 2 of the list\n",
    "print(mylist[1:3])\n",
    "\n",
    "# print start to index 2 of the list\n",
    "print(mylist[:3])\n",
    "\n",
    "# print index 3 to end of the list\n",
    "print(mylist[3:])"
   ]
  },
  {
   "cell_type": "markdown",
   "metadata": {},
   "source": [
    "* **Functions with the list as a parameter and methods of the list**\n",
    " - Find other functions : https://docs.python.org/3/tutorial/datastructures.html"
   ]
  },
  {
   "cell_type": "code",
   "execution_count": 15,
   "metadata": {
    "jupyter": {
     "outputs_hidden": false
    }
   },
   "outputs": [
    {
     "name": "stdout",
     "output_type": "stream",
     "text": [
      "5\n",
      "50\n",
      "10\n",
      "150\n",
      "[10, 20, 30, 40, 50]\n"
     ]
    }
   ],
   "source": [
    "# functions & methods\n",
    "numbers = [20, 50, 10, 40, 30]\n",
    "\n",
    "# use len() to get the length of a list\n",
    "print(len(numbers))\n",
    "\n",
    "# use max() to get the maximum value of a list\n",
    "print(max(numbers))\n",
    "\n",
    "# use min() to get the minimum value of a list\n",
    "print(min(numbers))\n",
    "\n",
    "# use sum() to get the sum of all values in a list\n",
    "print(sum(numbers))\n",
    "\n",
    "# use list.sort() to sort a list\n",
    "numbers.sort()\n",
    "print(numbers)"
   ]
  },
  {
   "cell_type": "markdown",
   "metadata": {},
   "source": [
    "* **Make list with for statement**"
   ]
  },
  {
   "cell_type": "code",
   "execution_count": 38,
   "metadata": {},
   "outputs": [
    {
     "name": "stdout",
     "output_type": "stream",
     "text": [
      "[0, 2, 4, 6, 8, 10, 12, 14, 16, 18, 20, 22, 24, 26, 28, 30, 32, 34, 36, 38, 40, 42, 44, 46, 48, 50, 52, 54, 56, 58, 60, 62, 64, 66, 68, 70, 72, 74, 76, 78, 80, 82, 84, 86, 88, 90, 92, 94, 96, 98, 100]\n"
     ]
    }
   ],
   "source": [
    "# make a list with all even numbers from 0 to 100 using for and range() \n",
    "even_numbers = []\n",
    "\n",
    "# use for to create even_numbers from [0, 1, 2, ... , 100]\n",
    "for i in range(101):\n",
    "    if i % 2 == 0:\n",
    "        even_numbers.append(i)\n",
    "        \n",
    "print(even_numbers)"
   ]
  },
  {
   "cell_type": "markdown",
   "metadata": {},
   "source": [
    "* **List comprehension** - offers a shorter syntax when you create a new list based on the values of an existing list"
   ]
  },
  {
   "cell_type": "code",
   "execution_count": 39,
   "metadata": {},
   "outputs": [
    {
     "name": "stdout",
     "output_type": "stream",
     "text": [
      "[0, 2, 4, 6, 8, 10, 12, 14, 16, 18, 20, 22, 24, 26, 28, 30, 32, 34, 36, 38, 40, 42, 44, 46, 48, 50, 52, 54, 56, 58, 60, 62, 64, 66, 68, 70, 72, 74, 76, 78, 80, 82, 84, 86, 88, 90, 92, 94, 96, 98, 100]\n"
     ]
    }
   ],
   "source": [
    "# use list Comprehension to create even_numbers from [0, 1, 2, ... , 100]\n",
    "even_numbers = [i for i in range(101) if i % 2 == 0]\n",
    "\n",
    "print(even_numbers)"
   ]
  },
  {
   "cell_type": "markdown",
   "metadata": {},
   "source": [
    "* **Nested list**"
   ]
  },
  {
   "cell_type": "code",
   "execution_count": 17,
   "metadata": {},
   "outputs": [
    {
     "name": "stdout",
     "output_type": "stream",
     "text": [
      "[[1, 3, 5, 7, 9], [0, 2, 4, 6, 8]]\n"
     ]
    }
   ],
   "source": [
    "# make nested list [[1, 3, 5, 7, 9], [0, 2, 4, 6, 8]]\n",
    "odd_numbers = [ i for i in range(10) if i % 2 == 1]\n",
    "even_numbers = [ i for i in range(10) if i % 2 == 0]\n",
    "\n",
    "nested_list = [odd_numbers, even_numbers]\n",
    "\n",
    "print(nested_list)"
   ]
  },
  {
   "cell_type": "code",
   "execution_count": 18,
   "metadata": {},
   "outputs": [
    {
     "name": "stdout",
     "output_type": "stream",
     "text": [
      "[1, 3, 5, 7, 9]\n",
      "3\n"
     ]
    }
   ],
   "source": [
    "# index of nested list\n",
    "\n",
    "# print the first list\n",
    "print(nested_list[0])\n",
    "\n",
    "# print the second element of the first list\n",
    "print(nested_list[0][1])"
   ]
  },
  {
   "cell_type": "markdown",
   "metadata": {},
   "source": [
    "---"
   ]
  },
  {
   "cell_type": "markdown",
   "metadata": {},
   "source": [
    "## Dictionary\n",
    "- **A dictionary is a data structure that stores unordered `<key : value>` pairs**\n",
    "    - It can be initialized as **{  key : value , key : value , …  }** or\n",
    "    - Make empty dictionary using **‘dict()’**, and then insert the new (key, value) pair\n",
    "    - List : items are **indexed by location(integer)**\n",
    "    - Dictionary : values are **indexed by keys**"
   ]
  },
  {
   "cell_type": "code",
   "execution_count": 46,
   "metadata": {
    "jupyter": {
     "outputs_hidden": false
    }
   },
   "outputs": [
    {
     "name": "stdout",
     "output_type": "stream",
     "text": [
      "20\n"
     ]
    }
   ],
   "source": [
    "# list of 30 , 10 , 20\n",
    "num_list = [30, 10, 20]\n",
    "\n",
    "# print the 3rd element of the list\n",
    "print(num_list[2])"
   ]
  },
  {
   "cell_type": "code",
   "execution_count": 19,
   "metadata": {},
   "outputs": [
    {
     "name": "stdout",
     "output_type": "stream",
     "text": [
      "red is 30\n",
      "{'red': 30, 'blue': 10, 'yellow': 20, 'green': 5}\n"
     ]
    }
   ],
   "source": [
    "# dictionary of 'red' : 30 , 'blue' : 10 , 'yellow' : 20\n",
    "word_count = {'red' : 30, 'blue' : 10, 'yellow' : 20}\n",
    "\n",
    "# print the value of the key 'red'\n",
    "print('red is', word_count['red'])\n",
    "\n",
    "# set the value of the key 'green' to 5\n",
    "word_count['green'] = 5\n",
    "\n",
    "print(word_count)"
   ]
  },
  {
   "cell_type": "markdown",
   "metadata": {},
   "source": [
    "* **methods of dictionary**  "
   ]
  },
  {
   "cell_type": "markdown",
   "metadata": {},
   "source": [
    "**1 .items()**"
   ]
  },
  {
   "cell_type": "code",
   "execution_count": 50,
   "metadata": {},
   "outputs": [
    {
     "data": {
      "text/plain": [
       "dict_items([('red', 30), ('blue', 10), ('yellow', 20), ('green', 5)])"
      ]
     },
     "execution_count": 50,
     "metadata": {},
     "output_type": "execute_result"
    }
   ],
   "source": [
    "# use .items() to get a list of key-value pairs\n",
    "word_count.items()"
   ]
  },
  {
   "cell_type": "markdown",
   "metadata": {},
   "source": [
    "**2. .keys()**"
   ]
  },
  {
   "cell_type": "code",
   "execution_count": 36,
   "metadata": {},
   "outputs": [
    {
     "data": {
      "text/plain": [
       "dict_keys(['red', 'blue', 'yellow', 'green'])"
      ]
     },
     "execution_count": 36,
     "metadata": {},
     "output_type": "execute_result"
    }
   ],
   "source": [
    "# use .keys() to get a list of keys\n",
    "word_count.keys()"
   ]
  },
  {
   "cell_type": "markdown",
   "metadata": {},
   "source": [
    "**3. .values()**"
   ]
  },
  {
   "cell_type": "code",
   "execution_count": 51,
   "metadata": {},
   "outputs": [
    {
     "data": {
      "text/plain": [
       "dict_values([30, 10, 20, 5])"
      ]
     },
     "execution_count": 51,
     "metadata": {},
     "output_type": "execute_result"
    }
   ],
   "source": [
    "# use .values() to get a list of values\n",
    "word_count.values()"
   ]
  },
  {
   "cell_type": "markdown",
   "metadata": {},
   "source": [
    "* **list vs. dictionary**"
   ]
  },
  {
   "cell_type": "code",
   "execution_count": 52,
   "metadata": {
    "jupyter": {
     "outputs_hidden": false
    }
   },
   "outputs": [
    {
     "name": "stdout",
     "output_type": "stream",
     "text": [
      "[185, 78]\n"
     ]
    },
    {
     "data": {
      "text/plain": [
       "185"
      ]
     },
     "execution_count": 52,
     "metadata": {},
     "output_type": "execute_result"
    }
   ],
   "source": [
    "# list\n",
    "# create a list and append 185 and 78 to the list\n",
    "lst = list()\n",
    "lst.append(185)\n",
    "lst.append(78)\n",
    "print(lst)\n",
    "\n",
    "# print the first element of the list\n",
    "lst[0]"
   ]
  },
  {
   "cell_type": "code",
   "execution_count": 53,
   "metadata": {},
   "outputs": [
    {
     "name": "stdout",
     "output_type": "stream",
     "text": [
      "{'height': 185, 'weight': 78}\n"
     ]
    },
    {
     "data": {
      "text/plain": [
       "185"
      ]
     },
     "execution_count": 53,
     "metadata": {},
     "output_type": "execute_result"
    }
   ],
   "source": [
    "# dictionary\n",
    "# create a dictionary and set height to 185 and weight to 78\n",
    "my_dict = dict()\n",
    "my_dict['height'] = 185\n",
    "my_dict['weight'] = 78\n",
    "print(my_dict)\n",
    "\n",
    "# print the value of the key 'height'\n",
    "my_dict['height']"
   ]
  },
  {
   "cell_type": "markdown",
   "metadata": {},
   "source": [
    "* **Make dictionary with for statement**"
   ]
  },
  {
   "cell_type": "code",
   "execution_count": 55,
   "metadata": {},
   "outputs": [
    {
     "name": "stdout",
     "output_type": "stream",
     "text": [
      "['Life', 'is', 'like', 'a', 'box', 'of', 'chocolates']\n",
      "{0: 'Life', 1: 'is', 2: 'like', 3: 'a', 4: 'box', 5: 'of', 6: 'chocolates'}\n"
     ]
    }
   ],
   "source": [
    "# make 'vocab' dictionary from a sentence (1)\n",
    "# split the sentence into words\n",
    "vocab_list = \"Life is like a box of chocolates\".split(\" \")\n",
    "print(vocab_list)\n",
    "\n",
    "vocab = {}\n",
    "\n",
    "# make 'vocab' dictionary from a sentence using enumerate\n",
    "for k, v in enumerate(vocab_list):\n",
    "    vocab[k] = v\n",
    "print(vocab)"
   ]
  },
  {
   "cell_type": "markdown",
   "metadata": {},
   "source": [
    "* **Dictionary comprehension**"
   ]
  },
  {
   "cell_type": "code",
   "execution_count": 56,
   "metadata": {},
   "outputs": [
    {
     "name": "stdout",
     "output_type": "stream",
     "text": [
      "{0: 'Life', 1: 'is', 2: 'like', 3: 'a', 4: 'box', 5: 'of', 6: 'chocolates'}\n"
     ]
    }
   ],
   "source": [
    "# make 'vocab' dictionary from a sentence (2)\n",
    "vocab = { k : v for k, v in enumerate(vocab_list)}\n",
    "print(vocab)"
   ]
  },
  {
   "cell_type": "markdown",
   "metadata": {},
   "source": [
    "---"
   ]
  },
  {
   "cell_type": "markdown",
   "metadata": {},
   "source": [
    "## Tuple\n",
    "- A tuple is a collection of items which is ordered and **unchangeable**. \n",
    "  - It is more simple and efficient because the tuple is saved with the condition not to be changed in the future \n",
    "  - ‘items()’ method of dictionary returns list of **(key, value)** tuples"
   ]
  },
  {
   "cell_type": "code",
   "execution_count": 57,
   "metadata": {
    "jupyter": {
     "outputs_hidden": false
    }
   },
   "outputs": [
    {
     "name": "stdout",
     "output_type": "stream",
     "text": [
      "(20, 30)\n",
      "(20,)\n"
     ]
    }
   ],
   "source": [
    "# tuple\n",
    "x = (20, 30)\n",
    "y = (20,)\n",
    "\n",
    "print(x)\n",
    "print(y)"
   ]
  },
  {
   "cell_type": "code",
   "execution_count": 61,
   "metadata": {},
   "outputs": [
    {
     "name": "stdout",
     "output_type": "stream",
     "text": [
      "{'tom': 1234, 'john': 5678}\n",
      "tom 1234\n",
      "john 5678\n"
     ]
    }
   ],
   "source": [
    "# tuple and dictionary\n",
    "ids = dict()\n",
    "\n",
    "# set the value of the key 'tom' to 1234\n",
    "ids['tom'] = 1234\n",
    "# set the value of the key 'john' to 5678\n",
    "ids['john'] = 5678\n",
    "\n",
    "# print dictionary ids\n",
    "print(ids)\n",
    "\n",
    "# print all keys and values in ids using .items()\n",
    "for key, val in ids.items():\n",
    "    print(key, val)"
   ]
  },
  {
   "cell_type": "markdown",
   "metadata": {},
   "source": [
    "---"
   ]
  },
  {
   "cell_type": "markdown",
   "metadata": {},
   "source": [
    "## Set\n",
    "- A set is an unordered collection of items with no duplicates\n",
    "   - It can be initialized as **{  item1, item2, …  }** or\n",
    "   - It can be defined by the function **‘set()’**"
   ]
  },
  {
   "cell_type": "code",
   "execution_count": 62,
   "metadata": {
    "jupyter": {
     "outputs_hidden": false
    }
   },
   "outputs": [
    {
     "name": "stdout",
     "output_type": "stream",
     "text": [
      "{1, 2, 3}\n",
      "{1, 2, 3}\n"
     ]
    }
   ],
   "source": [
    "# set\n",
    "# create a set s containing 1, 2, and 3\n",
    "s = {1, 2, 3}\n",
    "print(s)\n",
    "\n",
    "# set ignores duplicates \n",
    "# create a list containing duplicates \n",
    "lst = [1, 2, 2, 2, 3, 3, 1]\n",
    "\n",
    "# create a set from the list\n",
    "s = set(lst)\n",
    "print(s)"
   ]
  },
  {
   "cell_type": "markdown",
   "metadata": {},
   "source": [
    "- Set operations : **&, intersection(), |, union(), -, difference()**"
   ]
  },
  {
   "cell_type": "code",
   "execution_count": 21,
   "metadata": {
    "jupyter": {
     "outputs_hidden": false
    }
   },
   "outputs": [
    {
     "name": "stdout",
     "output_type": "stream",
     "text": [
      "{2, 4}\n",
      "{2, 4}\n",
      "{1, 2, 3, 4, 6, 8}\n",
      "{1, 2, 3, 4, 6, 8}\n",
      "{1, 3}\n",
      "{1, 3}\n"
     ]
    }
   ],
   "source": [
    "# intersection, union, difference\n",
    "set1 = set([1, 2, 3, 4])\n",
    "set2 = set([2, 4, 6, 8])\n",
    "\n",
    "# intersection\n",
    " # using &\n",
    "print(set1 & set2)\n",
    " # using intersection function \n",
    "print(set1.intersection(set2))\n",
    "\n",
    "# union\n",
    " # using |\n",
    "print(set1 | set2)\n",
    " # using union function\n",
    "print(set1.union(set2))\n",
    "\n",
    "# difference\n",
    " # using using -\n",
    "print(set1 - set2)\n",
    " # using difference function\n",
    "print(set1.difference(set2))"
   ]
  },
  {
   "cell_type": "markdown",
   "metadata": {},
   "source": [
    "---"
   ]
  },
  {
   "cell_type": "markdown",
   "metadata": {},
   "source": [
    "# File processing"
   ]
  },
  {
   "cell_type": "markdown",
   "metadata": {},
   "source": [
    "- **Opening the file**\n",
    "  - open() – it returns the handle used to manipulate the file\n",
    "  - The file handle is a sequence of each line of the file"
   ]
  },
  {
   "cell_type": "code",
   "execution_count": 22,
   "metadata": {
    "jupyter": {
     "outputs_hidden": false
    }
   },
   "outputs": [
    {
     "name": "stdout",
     "output_type": "stream",
     "text": [
      "total line : 7\n"
     ]
    }
   ],
   "source": [
    "# open 'sample.txt' file and count lines\n",
    "fhand = open('sample.txt')\n",
    "\n",
    "# use for loop to count lines\n",
    "count = 0\n",
    "for line in fhand:\n",
    "    count = count + 1\n",
    "    \n",
    "# use .close() to close the file\n",
    "fhand.close()\n",
    "\n",
    "print('total line :', count)"
   ]
  },
  {
   "cell_type": "markdown",
   "metadata": {},
   "source": [
    "- **Read all contents of the file**\n",
    "  - .read() – it reads all contents in the file and returns it as a sequence of a string"
   ]
  },
  {
   "cell_type": "code",
   "execution_count": 67,
   "metadata": {
    "jupyter": {
     "outputs_hidden": false
    }
   },
   "outputs": [
    {
     "name": "stdout",
     "output_type": "stream",
     "text": [
      "Python is a high-level, general-purpose programming language. Its design philosophy emphasizes code readability with the use of significant indentation.[33]\n",
      "\n",
      "Python is dynamically typed and garbage-collected. It supports multiple programming paradigms, including structured (particularly procedural), object-oriented and functional programming. It is often described as a \"batteries included\" language due to its comprehensive standard library.[34][35]\n",
      "\n",
      "Guido van Rossum began working on Python in the late 1980s as a successor to the ABC programming language and first released it in 1991 as Python 0.9.0.[36] Python 2.0 was released in 2000. Python 3.0, released in 2008, was a major revision not completely backward-compatible with earlier versions. Python 2.7.18, released in 2020, was the last release of Python 2.[37]\n",
      "\n",
      "Python consistently ranks as one of the most popular programming languages.[38][39][40][41]\n",
      "\n",
      " *** length of the file = 916\n"
     ]
    }
   ],
   "source": [
    "# open & close\n",
    "fhand = open(\"sample.txt\")\n",
    "\n",
    "# use .read() to read the file\n",
    "mfile = fhand.read()\n",
    "\n",
    "# print the file\n",
    "print(mfile)\n",
    "\n",
    "# use len() to print the length of the file\n",
    "print('\\n *** length of the file =', len(mfile))\n",
    "\n",
    "# close the file\n",
    "fhand.close()"
   ]
  },
  {
   "cell_type": "markdown",
   "metadata": {},
   "source": [
    "---"
   ]
  },
  {
   "cell_type": "markdown",
   "metadata": {},
   "source": [
    "# Class\n",
    "- **Object = Attribute + Method**\n",
    "  - Classes provide a means of bundling data and functionality together \n",
    "  - Creating a new class creates a new type of object, allowing new instances of that type to be made\n",
    "  - Class, Object and Instance : https://alfredjava.wordpress.com/2008/07/08/class-vs-object-vs-instance/"
   ]
  },
  {
   "cell_type": "markdown",
   "metadata": {},
   "source": [
    "* **Creating a class**"
   ]
  },
  {
   "cell_type": "code",
   "execution_count": 23,
   "metadata": {
    "jupyter": {
     "outputs_hidden": false
    }
   },
   "outputs": [],
   "source": [
    "# define a class named 'Car'\n",
    "\n",
    "class Car:\n",
    "    # define constructor with brand, year and current_speed as parameters\n",
    "    def __init__(self, brand, year, current_speed):\n",
    "        self.brand = brand\n",
    "        self.year = year\n",
    "        self.current_speed = current_speed\n",
    "    \n",
    "    # define a method accelate() to increase the current_speed by 10\n",
    "    def accelate(self):\n",
    "        self.current_speed += 10\n",
    "        return self.current_speed"
   ]
  },
  {
   "cell_type": "markdown",
   "metadata": {},
   "source": [
    "* **Creating objects**"
   ]
  },
  {
   "cell_type": "code",
   "execution_count": 24,
   "metadata": {
    "jupyter": {
     "outputs_hidden": false
    }
   },
   "outputs": [],
   "source": [
    "# make 'car1', 'car2' objects\n",
    "\n",
    "# create car1 with brand 'Toyota', year '1995', current_speed '100'\n",
    "car1 = Car('Toyota', 1995, 100)\n",
    "\n",
    "# create car2 with brand 'Hyundai', year '2000', current_speed '120'\n",
    "car2 = Car('hyundai', 2000, 120)"
   ]
  },
  {
   "cell_type": "markdown",
   "metadata": {},
   "source": [
    "* **Attributes & methods**"
   ]
  },
  {
   "cell_type": "code",
   "execution_count": 25,
   "metadata": {},
   "outputs": [
    {
     "name": "stdout",
     "output_type": "stream",
     "text": [
      "Toyota\n",
      "100\n",
      "110\n"
     ]
    }
   ],
   "source": [
    "# print attributes, execute the method\n",
    "\n",
    "# print car1 brand\n",
    "print(car1.brand)\n",
    "\n",
    "# print car1 current_speed\n",
    "print(car1.current_speed)\n",
    "\n",
    "# accelerate car1\n",
    "car1.accelate()\n",
    "\n",
    "# print car1 current_speed\n",
    "print(car1.current_speed)"
   ]
  },
  {
   "cell_type": "markdown",
   "metadata": {},
   "source": [
    "---"
   ]
  },
  {
   "cell_type": "markdown",
   "metadata": {},
   "source": [
    "---"
   ]
  },
  {
   "cell_type": "markdown",
   "metadata": {},
   "source": [
    "# Quiz"
   ]
  },
  {
   "cell_type": "markdown",
   "metadata": {},
   "source": [
    "### 1. input, while, if\n",
    "- Write a program that continuously inputs numbers(positive integers), and outputs the counts, total, and average of the integers.\n",
    "  - use while() and input()\n",
    "- The program ends when the input is 0.\n",
    "  - use if and break"
   ]
  },
  {
   "cell_type": "code",
   "execution_count": 72,
   "metadata": {
    "jupyter": {
     "outputs_hidden": false
    }
   },
   "outputs": [
    {
     "name": "stdout",
     "output_type": "stream",
     "text": [
      "Count =  4\n",
      "Total =  16\n",
      "Average =  4.0\n"
     ]
    }
   ],
   "source": [
    "count = 0\n",
    "total = 0\n",
    "\n",
    "############ Start of your code ############\n",
    "while True:\n",
    "    n = int(input('Enter a number : '))\n",
    "    if n == 0:\n",
    "        break\n",
    "    count += 1\n",
    "    total += n\n",
    "############# End of your code #############\n",
    "        \n",
    "print(\"Count = \", count)\n",
    "print(\"Total = \", total)\n",
    "print(\"Average = \", total/count)\n",
    "        "
   ]
  },
  {
   "cell_type": "markdown",
   "metadata": {},
   "source": [
    "---"
   ]
  },
  {
   "cell_type": "markdown",
   "metadata": {},
   "source": [
    "### 2. function, for, list\n",
    "- The temperature (temp) and iced americano sales (sale) have the following relation \n",
    "> `sale = 30.08 * temp - 159.47`  \n",
    "- Define a function 'predict' to compute above equation\n",
    "- For following list of temps for the next 10 days, make the list of sales(integers) for the next 10 days \n",
    "  - use for and .append()\n",
    "- Print the sales and average of them"
   ]
  },
  {
   "cell_type": "code",
   "execution_count": 28,
   "metadata": {},
   "outputs": [
    {
     "name": "stdout",
     "output_type": "stream",
     "text": [
      "Sales prediction =  [198, 267, 297, 333, 357, 384, 397, 424, 505, 520]\n",
      "Average =  368.2\n"
     ]
    }
   ],
   "source": [
    "temps = [11.9, 14.2, 15.2, 16.4, 17.2, 18.1, 18.5, 19.4, 22.1, 22.6]\n",
    "\n",
    "############ Start of your code ############\n",
    "def predict(temp):\n",
    "    sale = 30.08 * temp - 159.47\n",
    "    return int(sale)\n",
    "\n",
    "sales = list()\n",
    "for i in temps:\n",
    "    sales.append(predict(i))\n",
    "\n",
    "############# End of your code #############\n",
    "\n",
    "print('Sales prediction = ', sales)\n",
    "print('Average = ', sum(sales)/len(sales))\n"
   ]
  },
  {
   "cell_type": "markdown",
   "metadata": {},
   "source": [
    "---"
   ]
  },
  {
   "cell_type": "markdown",
   "metadata": {},
   "source": [
    "### 3. dictionary  \n",
    "- Change the scores in following dictionary into 'P' (if score >= 70) or 'F' and print the result\n",
    "  - use for and if"
   ]
  },
  {
   "cell_type": "code",
   "execution_count": 78,
   "metadata": {},
   "outputs": [
    {
     "name": "stdout",
     "output_type": "stream",
     "text": [
      "Scores = {'Tom': 'F', 'Jane': 'P', 'Bill': 'P', 'Mary': 'F'}\n"
     ]
    }
   ],
   "source": [
    "scores = {\n",
    "    'Tom':60, \n",
    "    'Jane':95, \n",
    "    'Bill':80, \n",
    "    'Mary':55\n",
    "}\n",
    "\n",
    "############ Start of your code ############\n",
    "for k, v in scores.items():\n",
    "    if v >= 70:\n",
    "        scores[k] = 'P'\n",
    "    else:\n",
    "        scores[k] = 'F'\n",
    "\n",
    "############# End of your code #############\n",
    "\n",
    "print('Scores =', scores)       "
   ]
  },
  {
   "cell_type": "markdown",
   "metadata": {},
   "source": [
    "---"
   ]
  },
  {
   "cell_type": "markdown",
   "metadata": {},
   "source": [
    "### 4. class \n",
    "- Create a 'Circle' class that has an attribute 'radius', and a method 'area()' that computes the area of the circle\n",
    "- Create a 'Rectangle' class that has attributes 'width' and 'height', and a method 'area()' that computes the area of the rectangle \n",
    "- Create an instance for each class, and print out the area of each instance. \n",
    "- Set 𝜋 to 3.14."
   ]
  },
  {
   "cell_type": "code",
   "execution_count": 80,
   "metadata": {},
   "outputs": [],
   "source": [
    "############ Start of your code ############\n",
    "# make Circle class\n",
    "class Circle:\n",
    "    def __init__(self, radius):\n",
    "        self.radius = radius\n",
    "    def area(self):\n",
    "        return self.radius ** 2 * 3.14\n",
    "\n",
    "# make Rectangle class\n",
    "class Rectangle:\n",
    "    def __init__(self, width, height):\n",
    "        self.width = width\n",
    "        self.height = height\n",
    "    def area(self):\n",
    "        return self.width * self.height\n",
    "\n",
    "\n",
    "############# End of your code #############\n",
    "\n",
    "circle1 = Circle(10)\n",
    "rectangle1 = Rectangle(20, 30)"
   ]
  },
  {
   "cell_type": "code",
   "execution_count": 82,
   "metadata": {
    "jupyter": {
     "outputs_hidden": false
    }
   },
   "outputs": [
    {
     "name": "stdout",
     "output_type": "stream",
     "text": [
      "Area of circle1 = 314.0\n",
      "Area of retangle1 = 600\n"
     ]
    }
   ],
   "source": [
    "print('Area of circle1 =', circle1.area())\n",
    "print('Area of retangle1 =', rectangle1.area())"
   ]
  },
  {
   "cell_type": "code",
   "execution_count": null,
   "metadata": {},
   "outputs": [],
   "source": []
  }
 ],
 "metadata": {
  "kernelspec": {
   "display_name": "Python 3 (ipykernel)",
   "language": "python",
   "name": "python3"
  },
  "language_info": {
   "codemirror_mode": {
    "name": "ipython",
    "version": 3
   },
   "file_extension": ".py",
   "mimetype": "text/x-python",
   "name": "python",
   "nbconvert_exporter": "python",
   "pygments_lexer": "ipython3",
   "version": "3.9.12"
  }
 },
 "nbformat": 4,
 "nbformat_minor": 4
}
