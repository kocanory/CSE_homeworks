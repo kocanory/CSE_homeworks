{
  "cells": [
    {
      "attachments": {},
      "cell_type": "markdown",
      "metadata": {
        "id": "cLZQXSUBV1gx"
      },
      "source": [
        "# Week14: Autoencoder, GAN, Q-learning"
      ]
    },
    {
      "attachments": {},
      "cell_type": "markdown",
      "metadata": {
        "id": "eRMq-4y_V3re"
      },
      "source": [
        "# 1. Autoencoder "
      ]
    },
    {
      "attachments": {},
      "cell_type": "markdown",
      "metadata": {
        "id": "5soKBPHbNhWE"
      },
      "source": [
        "![image.png](attachment:image.png)"
      ]
    },
    {
      "cell_type": "code",
      "execution_count": 32,
      "metadata": {
        "id": "xMDpVNYQNhWF"
      },
      "outputs": [],
      "source": [
        "import matplotlib.pyplot as plt\n",
        "import numpy as np\n",
        "\n",
        "import tensorflow as tf\n",
        "from tensorflow import keras\n",
        "from tensorflow.keras.datasets import mnist\n",
        "from tensorflow.keras.models import Sequential\n",
        "from tensorflow.keras.optimizers import Adam, SGD"
      ]
    },
    {
      "attachments": {},
      "cell_type": "markdown",
      "metadata": {
        "id": "7NAbSZiaoJ4z"
      },
      "source": [
        "### Load MNIST dataset"
      ]
    },
    {
      "cell_type": "code",
      "execution_count": 33,
      "metadata": {
        "id": "01UjE50WNhWJ"
      },
      "outputs": [],
      "source": [
        "# load dataset\n",
        "(X_train, y_train), (X_test, y_test) = mnist.load_data()\n",
        "X_train = X_train.astype(np.float32) / 255\n",
        "X_test = X_test.astype(np.float32) / 255"
      ]
    },
    {
      "cell_type": "code",
      "execution_count": 34,
      "metadata": {
        "colab": {
          "base_uri": "https://localhost:8080/"
        },
        "id": "04B-7Vq4NhWM",
        "outputId": "ee7233ab-09a5-49c0-8c60-9dbc34eea989"
      },
      "outputs": [
        {
          "data": {
            "text/plain": [
              "(60000, 28, 28)"
            ]
          },
          "execution_count": 34,
          "metadata": {},
          "output_type": "execute_result"
        }
      ],
      "source": [
        "X_train.shape"
      ]
    },
    {
      "attachments": {},
      "cell_type": "markdown",
      "metadata": {
        "id": "BPZ68wASog_I"
      },
      "source": [
        "### Build the autoencoder model using Keras"
      ]
    },
    {
      "attachments": {},
      "cell_type": "markdown",
      "metadata": {
        "id": "9cC9zbWONhWS"
      },
      "source": [
        "![image.png](attachment:image.png)"
      ]
    },
    {
      "cell_type": "code",
      "execution_count": 35,
      "metadata": {
        "id": "rxvU9lanNhWS"
      },
      "outputs": [],
      "source": [
        "# build encoder with flatten input, 1 dense layer with 100 outputs, 1 dense layer with 30 outputs, with relu activation\n",
        "# build decoder with 1 dense layer with 100 outputs with relu activation, 1 dense layer with 28*28 outputs with sigmoid activation\n",
        "\n",
        "stacked_encoder = keras.models.Sequential([\n",
        "    keras.layers.Flatten(input_shape=[28, 28]),\n",
        "    keras.layers.Dense(100, activation=\"relu\"),\n",
        "    keras.layers.Dense(30, activation=\"relu\"),\n",
        "])\n",
        "\n",
        "stacked_decoder = keras.models.Sequential([\n",
        "    keras.layers.Dense(100, activation=\"relu\", input_shape=[30]),\n",
        "    keras.layers.Dense(28 * 28, activation=\"sigmoid\"),\n",
        "    keras.layers.Reshape([28, 28])\n",
        "])\n",
        "\n",
        "# build stacked autoencoder with encoder and decoder \n",
        "\n",
        "stacked_ae = keras.models.Sequential([stacked_encoder, stacked_decoder])"
      ]
    },
    {
      "cell_type": "code",
      "execution_count": 36,
      "metadata": {
        "colab": {
          "base_uri": "https://localhost:8080/"
        },
        "id": "q0Tk6qfpNhWT",
        "outputId": "47a22f7b-b339-4400-dec2-2b06514c37fd"
      },
      "outputs": [
        {
          "name": "stdout",
          "output_type": "stream",
          "text": [
            "Model: \"sequential_8\"\n",
            "_________________________________________________________________\n",
            " Layer (type)                Output Shape              Param #   \n",
            "=================================================================\n",
            " sequential_6 (Sequential)   (None, 30)                81530     \n",
            "|¯¯¯¯¯¯¯¯¯¯¯¯¯¯¯¯¯¯¯¯¯¯¯¯¯¯¯¯¯¯¯¯¯¯¯¯¯¯¯¯¯¯¯¯¯¯¯¯¯¯¯¯¯¯¯¯¯¯¯¯¯¯¯|\n",
            "| flatten_1 (Flatten)       (None, 784)               0         |\n",
            "|                                                               |\n",
            "| dense_12 (Dense)          (None, 100)               78500     |\n",
            "|                                                               |\n",
            "| dense_13 (Dense)          (None, 30)                3030      |\n",
            "¯¯¯¯¯¯¯¯¯¯¯¯¯¯¯¯¯¯¯¯¯¯¯¯¯¯¯¯¯¯¯¯¯¯¯¯¯¯¯¯¯¯¯¯¯¯¯¯¯¯¯¯¯¯¯¯¯¯¯¯¯¯¯¯¯\n",
            " sequential_7 (Sequential)   (None, 28, 28)            82284     \n",
            "|¯¯¯¯¯¯¯¯¯¯¯¯¯¯¯¯¯¯¯¯¯¯¯¯¯¯¯¯¯¯¯¯¯¯¯¯¯¯¯¯¯¯¯¯¯¯¯¯¯¯¯¯¯¯¯¯¯¯¯¯¯¯¯|\n",
            "| dense_14 (Dense)          (None, 100)               3100      |\n",
            "|                                                               |\n",
            "| dense_15 (Dense)          (None, 784)               79184     |\n",
            "|                                                               |\n",
            "| reshape_1 (Reshape)       (None, 28, 28)            0         |\n",
            "¯¯¯¯¯¯¯¯¯¯¯¯¯¯¯¯¯¯¯¯¯¯¯¯¯¯¯¯¯¯¯¯¯¯¯¯¯¯¯¯¯¯¯¯¯¯¯¯¯¯¯¯¯¯¯¯¯¯¯¯¯¯¯¯¯\n",
            "=================================================================\n",
            "Total params: 163,814\n",
            "Trainable params: 163,814\n",
            "Non-trainable params: 0\n",
            "_________________________________________________________________\n"
          ]
        }
      ],
      "source": [
        "# display the model. set expand_nested=True\n",
        "stacked_ae.summary(expand_nested=True)"
      ]
    },
    {
      "attachments": {},
      "cell_type": "markdown",
      "metadata": {
        "id": "bAibj-kwAlyW"
      },
      "source": [
        "### Compile and Train the model"
      ]
    },
    {
      "cell_type": "code",
      "execution_count": 37,
      "metadata": {
        "id": "9-7irOHzNhWV"
      },
      "outputs": [],
      "source": [
        "# compile the model with SGD optimizer with learning rate 1.0, and binary_crossentropy loss\n",
        "stacked_ae.compile(loss=\"binary_crossentropy\", optimizer=keras.optimizers.SGD(learning_rate=1.0))"
      ]
    },
    {
      "cell_type": "code",
      "execution_count": 38,
      "metadata": {
        "colab": {
          "base_uri": "https://localhost:8080/"
        },
        "id": "j228TKAfNhWW",
        "outputId": "ff26592b-789e-49cb-be01-1cefbab76a8e"
      },
      "outputs": [
        {
          "name": "stdout",
          "output_type": "stream",
          "text": [
            "Epoch 1/10\n",
            "1875/1875 [==============================] - 7s 3ms/step - loss: 0.2148\n",
            "Epoch 2/10\n",
            "1875/1875 [==============================] - 5s 3ms/step - loss: 0.1462\n",
            "Epoch 3/10\n",
            "1875/1875 [==============================] - 6s 3ms/step - loss: 0.1271\n",
            "Epoch 4/10\n",
            "1875/1875 [==============================] - 5s 3ms/step - loss: 0.1177\n",
            "Epoch 5/10\n",
            "1875/1875 [==============================] - 6s 3ms/step - loss: 0.1118\n",
            "Epoch 6/10\n",
            "1875/1875 [==============================] - 5s 3ms/step - loss: 0.1076\n",
            "Epoch 7/10\n",
            "1875/1875 [==============================] - 6s 3ms/step - loss: 0.1045\n",
            "Epoch 8/10\n",
            "1875/1875 [==============================] - 5s 3ms/step - loss: 0.1025\n",
            "Epoch 9/10\n",
            "1875/1875 [==============================] - 6s 3ms/step - loss: 0.1008\n",
            "Epoch 10/10\n",
            "1875/1875 [==============================] - 6s 3ms/step - loss: 0.0993\n"
          ]
        }
      ],
      "source": [
        "# train the model. 10 epochs. record history\n",
        "history = stacked_ae.fit(X_train, X_train, epochs=10)"
      ]
    },
    {
      "attachments": {},
      "cell_type": "markdown",
      "metadata": {
        "id": "oKWbW-DqKIN4"
      },
      "source": [
        "### Check encoding and decoding results"
      ]
    },
    {
      "cell_type": "code",
      "execution_count": 39,
      "metadata": {
        "id": "Y8bhQH38NhWX"
      },
      "outputs": [],
      "source": [
        "def plot_image(image):\n",
        "    plt.imshow(image, cmap=\"Greys\")"
      ]
    },
    {
      "cell_type": "code",
      "execution_count": 40,
      "metadata": {
        "colab": {
          "base_uri": "https://localhost:8080/",
          "height": 430
        },
        "id": "yjG4j0EKNhWY",
        "outputId": "6294a93b-7154-4dcd-e51b-66a5b0fc6284"
      },
      "outputs": [
        {
          "data": {
            "image/png": "[encoded data removed]",
            "text/plain": [
              "<Figure size 640x480 with 1 Axes>"
            ]
          },
          "metadata": {},
          "output_type": "display_data"
        }
      ],
      "source": [
        "# show test image\n",
        "plot_image(X_train[0])"
      ]
    },
    {
      "cell_type": "code",
      "execution_count": 41,
      "metadata": {
        "colab": {
          "base_uri": "https://localhost:8080/",
          "height": 100
        },
        "id": "zycLbuFGNhWY",
        "outputId": "943ccda1-3e5b-4e57-a162-291315f09bd0"
      },
      "outputs": [
        {
          "name": "stdout",
          "output_type": "stream",
          "text": [
            "1/1 [==============================] - 0s 46ms/step\n"
          ]
        },
        {
          "data": {
            "image/png": "[encoded data removed]",
            "text/plain": [
              "<Figure size 640x480 with 1 Axes>"
            ]
          },
          "metadata": {},
          "output_type": "display_data"
        }
      ],
      "source": [
        "# show the encoded image\n",
        "compressed_image = stacked_encoder.predict(X_train[0].reshape(1, 28, 28))\n",
        "plot_image(compressed_image)"
      ]
    },
    {
      "cell_type": "code",
      "execution_count": 42,
      "metadata": {
        "colab": {
          "base_uri": "https://localhost:8080/",
          "height": 448
        },
        "id": "akhc-czwNhWZ",
        "outputId": "ffa670ac-ffc7-44da-cae1-1c3aa722a0db"
      },
      "outputs": [
        {
          "name": "stdout",
          "output_type": "stream",
          "text": [
            "1/1 [==============================] - 0s 49ms/step\n"
          ]
        },
        {
          "data": {
            "image/png": "[encoded data removed]",
            "text/plain": [
              "<Figure size 640x480 with 1 Axes>"
            ]
          },
          "metadata": {},
          "output_type": "display_data"
        }
      ],
      "source": [
        "# show the image reconstructed from the encoded data\n",
        "reconstructed_image = stacked_decoder.predict(compressed_image)\n",
        "plot_image(reconstructed_image.reshape(28, 28))"
      ]
    },
    {
      "cell_type": "code",
      "execution_count": 43,
      "metadata": {
        "colab": {
          "base_uri": "https://localhost:8080/",
          "height": 347
        },
        "id": "jq4LoGbwNhWa",
        "outputId": "9850f6e7-0581-4c94-f866-09c91c580d8f"
      },
      "outputs": [
        {
          "name": "stderr",
          "output_type": "stream",
          "text": [
            "WARNING:tensorflow:5 out of the last 1886 calls to <function Model.make_predict_function.<locals>.predict_function at 0x7fb40926f760> triggered tf.function retracing. Tracing is expensive and the excessive number of tracings could be due to (1) creating @tf.function repeatedly in a loop, (2) passing tensors with different shapes, (3) passing Python objects instead of tensors. For (1), please define your @tf.function outside of the loop. For (2), @tf.function has reduce_retracing=True option that can avoid unnecessary retracing. For (3), please refer to https://www.tensorflow.org/guide/function#controlling_retracing and https://www.tensorflow.org/api_docs/python/tf/function for  more details.\n"
          ]
        },
        {
          "name": "stdout",
          "output_type": "stream",
          "text": [
            "1875/1875 [==============================] - 4s 2ms/step\n"
          ]
        },
        {
          "data": {
            "image/png": "[encoded data removed]",
            "text/plain": [
              "<Figure size 750x300 with 10 Axes>"
            ]
          },
          "metadata": {},
          "output_type": "display_data"
        }
      ],
      "source": [
        "# show N original and reconstructed image examples\n",
        "def show_reconstructions(model, images=X_train, n_images=5):\n",
        "    reconstructions = model.predict(X_train)\n",
        "    \n",
        "    fig = plt.figure(figsize=(n_images * 1.5, 3))\n",
        "    for image_index in range(n_images):\n",
        "        plt.subplot(2, n_images, 1 + image_index)\n",
        "        plt.imshow(images[image_index], cmap=\"Greys\")\n",
        "        plt.subplot(2, n_images, 1 + n_images + image_index)\n",
        "        plt.imshow(reconstructions[image_index], cmap=\"Greys\")\n",
        "        \n",
        "show_reconstructions(stacked_ae, X_train[:10], 5)"
      ]
    },
    {
      "attachments": {},
      "cell_type": "markdown",
      "metadata": {
        "id": "5QYIbhOsNhWa"
      },
      "source": [
        "### Plot the encoded data using t-SNE"
      ]
    },
    {
      "cell_type": "code",
      "execution_count": 44,
      "metadata": {
        "colab": {
          "base_uri": "https://localhost:8080/"
        },
        "id": "ghYg9s1hNhWb",
        "outputId": "08e91ddc-e2cc-4f66-c338-2bd0299743af"
      },
      "outputs": [
        {
          "name": "stdout",
          "output_type": "stream",
          "text": [
            "7/7 [==============================] - 0s 2ms/step\n"
          ]
        }
      ],
      "source": [
        "from sklearn.manifold import TSNE\n",
        "\n",
        "# get encoded data of first 200 training images\n",
        "X_test_compressed = stacked_encoder.predict(X_test[:200])\n",
        "\n",
        "# projection to 2D using t-SNE\n",
        "tsne = TSNE()\n",
        "X_test_2D = tsne.fit_transform(X_test_compressed)"
      ]
    },
    {
      "cell_type": "code",
      "execution_count": 45,
      "metadata": {
        "colab": {
          "base_uri": "https://localhost:8080/",
          "height": 830
        },
        "id": "z6t2InWHNhWc",
        "outputId": "e0bfa360-3c6b-42c1-98f2-cad959c051b6"
      },
      "outputs": [
        {
          "data": {
            "image/png": "[encoded data removed]",
            "text/plain": [
              "<Figure size 1000x1000 with 1 Axes>"
            ]
          },
          "metadata": {},
          "output_type": "display_data"
        }
      ],
      "source": [
        "# plot the 200 encoded data with different colors\n",
        "colors = [\"blue\", \"orange\", \"green\", \"red\", \"purple\",\n",
        "          \"brown\", \"pink\", \"gray\", \"olive\",\"cyan\"]\n",
        "\n",
        "plt.figure(figsize=(10,10))\n",
        "plt.xlim(X_test_2D[:,0].min(), X_test_2D[:,0].max()+1)\n",
        "plt.ylim(X_test_2D[:,1].min(), X_test_2D[:,1].max()+1)\n",
        "\n",
        "for i in range(len(X_train[:200])):\n",
        "    plt.text(X_test_2D[i, 0], X_test_2D[i, 1], str(y_test[i]),\n",
        "            color = colors[y_test[i]],\n",
        "            fontdict = {'weight':'bold','size':16})"
      ]
    },
    {
      "cell_type": "code",
      "execution_count": 45,
      "metadata": {
        "id": "uYiLeEdnNhWe"
      },
      "outputs": [],
      "source": []
    },
    {
      "attachments": {},
      "cell_type": "markdown",
      "metadata": {
        "id": "U_tm20YXNhWf"
      },
      "source": [
        "---"
      ]
    },
    {
      "attachments": {},
      "cell_type": "markdown",
      "metadata": {
        "id": "J_9X1YS4NhWf"
      },
      "source": [
        "# 2. GAN (Generative Adversarial Network)"
      ]
    },
    {
      "attachments": {},
      "cell_type": "markdown",
      "metadata": {
        "id": "VBWYbNp9NhWg"
      },
      "source": [
        "![image.png](attachment:image.png)\n",
        "![image-2.png](attachment:image-2.png)"
      ]
    },
    {
      "cell_type": "code",
      "execution_count": 66,
      "metadata": {
        "id": "xsW2_MgsNhWg"
      },
      "outputs": [],
      "source": [
        "import numpy as np\n",
        "import matplotlib.pyplot as plt\n",
        "import tensorflow as tf\n",
        "\n",
        "from tensorflow.keras import initializers\n",
        "from tensorflow.keras.datasets import mnist\n",
        "from tensorflow.keras.layers import BatchNormalization, Dense, LeakyReLU, Dropout\n",
        "from tensorflow.keras.models import Sequential\n",
        "from tensorflow.keras.optimizers import Adam"
      ]
    },
    {
      "attachments": {},
      "cell_type": "markdown",
      "metadata": {
        "id": "4Oqu9ZCLNhWh"
      },
      "source": [
        "### Get the MNIST data (real)"
      ]
    },
    {
      "cell_type": "code",
      "execution_count": 67,
      "metadata": {
        "id": "tyZrhjHbNhWh"
      },
      "outputs": [],
      "source": [
        "# load MNIST dataset\n",
        "(X_train, y_train), (X_test, y_test) = mnist.load_data()"
      ]
    },
    {
      "cell_type": "code",
      "execution_count": 68,
      "metadata": {
        "id": "OpMv13fnNhWi"
      },
      "outputs": [],
      "source": [
        "# use 10000 data\n",
        "X_train = X_train[:10000]\n",
        "y_train = y_train[:10000]"
      ]
    },
    {
      "cell_type": "code",
      "execution_count": 69,
      "metadata": {
        "colab": {
          "base_uri": "https://localhost:8080/",
          "height": 371
        },
        "id": "FZP0T-HnNhWi",
        "outputId": "7a23114b-d3ef-4243-c5f8-b8a96d554374"
      },
      "outputs": [
        {
          "data": {
            "image/png": "[encoded data removed]",
            "text/plain": [
              "<Figure size 640x480 with 10 Axes>"
            ]
          },
          "metadata": {},
          "output_type": "display_data"
        }
      ],
      "source": [
        "# show sample images for each class\n",
        "fig = plt.figure()\n",
        "for i in range(10):\n",
        "    plt.subplot(2, 5, i+1)\n",
        "    x_y = X_train[y_train == i]\n",
        "    plt.imshow(x_y[0], cmap='Greys', interpolation='none')\n",
        "    plt.title(\"Class %d\" % (i))\n",
        "    plt.xticks([])\n",
        "    plt.yticks([])\n",
        "    \n",
        "plt.tight_layout()"
      ]
    },
    {
      "attachments": {},
      "cell_type": "markdown",
      "metadata": {
        "id": "f4EdD7QFNhWj"
      },
      "source": [
        "### Reshaping and Normalizing Inputs"
      ]
    },
    {
      "cell_type": "code",
      "execution_count": 70,
      "metadata": {
        "colab": {
          "base_uri": "https://localhost:8080/"
        },
        "id": "oa6g6knbNhWk",
        "outputId": "c2218548-94ee-449f-c960-3aa6bbfae826"
      },
      "outputs": [
        {
          "name": "stdout",
          "output_type": "stream",
          "text": [
            "X_train shape (10000, 28, 28)\n",
            "X_train reshape: (10000, 784)\n"
          ]
        }
      ],
      "source": [
        "print('X_train shape', X_train.shape)\n",
        "\n",
        "# reshaping the inputs\n",
        "X_train = X_train.reshape(-1, 28*28)\n",
        "\n",
        "# normalizing the inputs (-1, 1)\n",
        "X_train = (X_train.astype('float32') / 255 - 0.5) * 2\n",
        "\n",
        "print('X_train reshape:', X_train.shape)"
      ]
    },
    {
      "attachments": {},
      "cell_type": "markdown",
      "metadata": {
        "id": "_f-38luHNhWk"
      },
      "source": [
        "### Build the model - Generator"
      ]
    },
    {
      "cell_type": "code",
      "execution_count": 71,
      "metadata": {
        "id": "3TljKXMoNhWl"
      },
      "outputs": [],
      "source": [
        "# latent space dimension\n",
        "latent_dim = 100\n",
        "\n",
        "# imagem dimension 28x28\n",
        "img_dim = 784\n",
        "\n",
        "init = initializers.RandomNormal(stddev=0.02)\n",
        "\n",
        "# Generator network\n",
        "generator = Sequential()\n",
        "\n",
        "# Input layer and hidden layer 1\n",
        "generator.add(Dense(128, input_shape=(latent_dim,), kernel_initializer=init))\n",
        "generator.add(LeakyReLU(alpha=0.2))\n",
        "generator.add(BatchNormalization(momentum=0.8))\n",
        "\n",
        "# Hidden layer 2\n",
        "generator.add(Dense(256))\n",
        "generator.add(LeakyReLU(alpha=0.2))\n",
        "generator.add(BatchNormalization(momentum=0.8))\n",
        "\n",
        "# Hidden layer 3\n",
        "generator.add(Dense(512))\n",
        "generator.add(LeakyReLU(alpha=0.2))\n",
        "generator.add(BatchNormalization(momentum=0.8))\n",
        "\n",
        "# Output layer \n",
        "generator.add(Dense(img_dim, activation='tanh'))"
      ]
    },
    {
      "cell_type": "code",
      "execution_count": 72,
      "metadata": {
        "colab": {
          "base_uri": "https://localhost:8080/"
        },
        "id": "uQdjJHkuNhWl",
        "outputId": "1e26b622-b48f-4c9f-98b7-420182265269"
      },
      "outputs": [
        {
          "name": "stdout",
          "output_type": "stream",
          "text": [
            "Model: \"sequential_12\"\n",
            "_________________________________________________________________\n",
            " Layer (type)                Output Shape              Param #   \n",
            "=================================================================\n",
            " dense_24 (Dense)            (None, 128)               12928     \n",
            "                                                                 \n",
            " leaky_re_lu_12 (LeakyReLU)  (None, 128)               0         \n",
            "                                                                 \n",
            " batch_normalization_6 (Batc  (None, 128)              512       \n",
            " hNormalization)                                                 \n",
            "                                                                 \n",
            " dense_25 (Dense)            (None, 256)               33024     \n",
            "                                                                 \n",
            " leaky_re_lu_13 (LeakyReLU)  (None, 256)               0         \n",
            "                                                                 \n",
            " batch_normalization_7 (Batc  (None, 256)              1024      \n",
            " hNormalization)                                                 \n",
            "                                                                 \n",
            " dense_26 (Dense)            (None, 512)               131584    \n",
            "                                                                 \n",
            " leaky_re_lu_14 (LeakyReLU)  (None, 512)               0         \n",
            "                                                                 \n",
            " batch_normalization_8 (Batc  (None, 512)              2048      \n",
            " hNormalization)                                                 \n",
            "                                                                 \n",
            " dense_27 (Dense)            (None, 784)               402192    \n",
            "                                                                 \n",
            "=================================================================\n",
            "Total params: 583,312\n",
            "Trainable params: 581,520\n",
            "Non-trainable params: 1,792\n",
            "_________________________________________________________________\n"
          ]
        }
      ],
      "source": [
        "# prints a summary representation of your model\n",
        "generator.summary()"
      ]
    },
    {
      "attachments": {},
      "cell_type": "markdown",
      "metadata": {
        "id": "7Dxkj6uvNhWm"
      },
      "source": [
        "### Build the model - Discriminator"
      ]
    },
    {
      "cell_type": "code",
      "execution_count": 73,
      "metadata": {
        "id": "XHgQUxRkNhWm"
      },
      "outputs": [],
      "source": [
        "# Discriminator network\n",
        "discriminator = Sequential()\n",
        "\n",
        "# Input layer and hidden layer 1\n",
        "discriminator.add(Dense(128, input_shape=(img_dim,), kernel_initializer=init))\n",
        "discriminator.add(LeakyReLU(alpha=0.2))\n",
        "\n",
        "# Hidden layer 2\n",
        "discriminator.add(Dense(256))\n",
        "discriminator.add(LeakyReLU(alpha=0.2))\n",
        "\n",
        "# Hidden layer 3\n",
        "discriminator.add(Dense(512))\n",
        "discriminator.add(LeakyReLU(alpha=0.2))\n",
        "\n",
        "# Output layer\n",
        "discriminator.add(Dense(1, activation='sigmoid'))"
      ]
    },
    {
      "cell_type": "code",
      "execution_count": 74,
      "metadata": {
        "colab": {
          "base_uri": "https://localhost:8080/"
        },
        "id": "b13aHA1CNhWp",
        "outputId": "e5b4840f-1cfd-4490-ea34-c3d66b7d329e"
      },
      "outputs": [
        {
          "name": "stdout",
          "output_type": "stream",
          "text": [
            "Model: \"sequential_13\"\n",
            "_________________________________________________________________\n",
            " Layer (type)                Output Shape              Param #   \n",
            "=================================================================\n",
            " dense_28 (Dense)            (None, 128)               100480    \n",
            "                                                                 \n",
            " leaky_re_lu_15 (LeakyReLU)  (None, 128)               0         \n",
            "                                                                 \n",
            " dense_29 (Dense)            (None, 256)               33024     \n",
            "                                                                 \n",
            " leaky_re_lu_16 (LeakyReLU)  (None, 256)               0         \n",
            "                                                                 \n",
            " dense_30 (Dense)            (None, 512)               131584    \n",
            "                                                                 \n",
            " leaky_re_lu_17 (LeakyReLU)  (None, 512)               0         \n",
            "                                                                 \n",
            " dense_31 (Dense)            (None, 1)                 513       \n",
            "                                                                 \n",
            "=================================================================\n",
            "Total params: 265,601\n",
            "Trainable params: 265,601\n",
            "Non-trainable params: 0\n",
            "_________________________________________________________________\n"
          ]
        }
      ],
      "source": [
        "# prints a summary representation of your model\n",
        "discriminator.summary()"
      ]
    },
    {
      "cell_type": "code",
      "execution_count": 55,
      "metadata": {
        "id": "MQXPYieLNhWq"
      },
      "outputs": [],
      "source": [
        "# compile discriminator with Adam optimizer\n",
        "optimizer = Adam(learning_rate=0.0002, beta_1=0.5)\n",
        "\n",
        "discriminator.compile(optimizer=optimizer, loss='binary_crossentropy', metrics=['binary_accuracy'])"
      ]
    },
    {
      "attachments": {},
      "cell_type": "markdown",
      "metadata": {
        "id": "72XyJy8FNhWq"
      },
      "source": [
        "###  Combine Generator and Discriminator to GAN"
      ]
    },
    {
      "cell_type": "code",
      "execution_count": 56,
      "metadata": {
        "id": "1tsDvTSbNhWr"
      },
      "outputs": [],
      "source": [
        "# build GAN model\n",
        "discriminator.trainable = False\n",
        "\n",
        "d_g = Sequential()\n",
        "d_g.add(generator)\n",
        "d_g.add(discriminator)"
      ]
    },
    {
      "cell_type": "code",
      "execution_count": 57,
      "metadata": {
        "colab": {
          "base_uri": "https://localhost:8080/"
        },
        "id": "10lqYWAlNhWs",
        "outputId": "d36b5b18-06ab-4e0f-a511-4721c7601d4b"
      },
      "outputs": [
        {
          "name": "stdout",
          "output_type": "stream",
          "text": [
            "Model: \"sequential_11\"\n",
            "_________________________________________________________________\n",
            " Layer (type)                Output Shape              Param #   \n",
            "=================================================================\n",
            " sequential_9 (Sequential)   (None, 784)               583312    \n",
            "                                                                 \n",
            " sequential_10 (Sequential)  (None, 1)                 265601    \n",
            "                                                                 \n",
            "=================================================================\n",
            "Total params: 848,913\n",
            "Trainable params: 581,520\n",
            "Non-trainable params: 267,393\n",
            "_________________________________________________________________\n"
          ]
        }
      ],
      "source": [
        "# prints a summary representation of your model\n",
        "d_g.summary()"
      ]
    },
    {
      "cell_type": "code",
      "execution_count": 58,
      "metadata": {
        "id": "C6w21GisNhWt"
      },
      "outputs": [],
      "source": [
        "# compile GAN model\n",
        "d_g.compile(optimizer=optimizer, loss='binary_crossentropy', metrics=['binary_accuracy'])"
      ]
    },
    {
      "attachments": {},
      "cell_type": "markdown",
      "metadata": {
        "id": "JYyQ_vP5NhWv"
      },
      "source": [
        "### Train the GAN model\n",
        "![image.png](attachment:image.png)"
      ]
    },
    {
      "cell_type": "code",
      "execution_count": 9,
      "metadata": {
        "colab": {
          "base_uri": "https://localhost:8080/",
          "height": 602
        },
        "id": "IBL53H6KNhWw",
        "outputId": "063f4a10-c56c-476a-b93c-3a9631733c67"
      },
      "outputs": [
        {
          "ename": "NameError",
          "evalue": "name 'X_train' is not defined",
          "output_type": "error",
          "traceback": [
            "\u001b[1;31m---------------------------------------------------------------------------\u001b[0m",
            "\u001b[1;31mNameError\u001b[0m                                 Traceback (most recent call last)",
            "\u001b[1;32mc:\\Users\\kocan\\OneDrive - dongguk.edu\\컴공\\머신러닝\\과제\\14주차\\Week14_given_code.ipynb 셀 47\u001b[0m in \u001b[0;36m1\n\u001b[0;32m      <a href='vscode-notebook-cell:/c%3A/Users/kocan/OneDrive%20-%20dongguk.edu/%EC%BB%B4%EA%B3%B5/%EB%A8%B8%EC%8B%A0%EB%9F%AC%EB%8B%9D/%EA%B3%BC%EC%A0%9C/14%EC%A3%BC%EC%B0%A8/Week14_given_code.ipynb#X64sZmlsZQ%3D%3D?line=7'>8</a>\u001b[0m d_g_loss \u001b[39m=\u001b[39m []\n\u001b[0;32m     <a href='vscode-notebook-cell:/c%3A/Users/kocan/OneDrive%20-%20dongguk.edu/%EC%BB%B4%EA%B3%B5/%EB%A8%B8%EC%8B%A0%EB%9F%AC%EB%8B%9D/%EA%B3%BC%EC%A0%9C/14%EC%A3%BC%EC%B0%A8/Week14_given_code.ipynb#X64sZmlsZQ%3D%3D?line=10'>11</a>\u001b[0m \u001b[39mfor\u001b[39;00m e \u001b[39min\u001b[39;00m \u001b[39mrange\u001b[39m(epochs):\n\u001b[1;32m---> <a href='vscode-notebook-cell:/c%3A/Users/kocan/OneDrive%20-%20dongguk.edu/%EC%BB%B4%EA%B3%B5/%EB%A8%B8%EC%8B%A0%EB%9F%AC%EB%8B%9D/%EA%B3%BC%EC%A0%9C/14%EC%A3%BC%EC%B0%A8/Week14_given_code.ipynb#X64sZmlsZQ%3D%3D?line=11'>12</a>\u001b[0m     \u001b[39mfor\u001b[39;00m i \u001b[39min\u001b[39;00m \u001b[39mrange\u001b[39m(\u001b[39mlen\u001b[39m(X_train) \u001b[39m/\u001b[39m\u001b[39m/\u001b[39m batch_size):\n\u001b[0;32m     <a href='vscode-notebook-cell:/c%3A/Users/kocan/OneDrive%20-%20dongguk.edu/%EC%BB%B4%EA%B3%B5/%EB%A8%B8%EC%8B%A0%EB%9F%AC%EB%8B%9D/%EA%B3%BC%EC%A0%9C/14%EC%A3%BC%EC%B0%A8/Week14_given_code.ipynb#X64sZmlsZQ%3D%3D?line=12'>13</a>\u001b[0m \n\u001b[0;32m     <a href='vscode-notebook-cell:/c%3A/Users/kocan/OneDrive%20-%20dongguk.edu/%EC%BB%B4%EA%B3%B5/%EB%A8%B8%EC%8B%A0%EB%9F%AC%EB%8B%9D/%EA%B3%BC%EC%A0%9C/14%EC%A3%BC%EC%B0%A8/Week14_given_code.ipynb#X64sZmlsZQ%3D%3D?line=13'>14</a>\u001b[0m         \u001b[39m###############################################################\u001b[39;00m\n\u001b[0;32m     <a href='vscode-notebook-cell:/c%3A/Users/kocan/OneDrive%20-%20dongguk.edu/%EC%BB%B4%EA%B3%B5/%EB%A8%B8%EC%8B%A0%EB%9F%AC%EB%8B%9D/%EA%B3%BC%EC%A0%9C/14%EC%A3%BC%EC%B0%A8/Week14_given_code.ipynb#X64sZmlsZQ%3D%3D?line=14'>15</a>\u001b[0m         \u001b[39m# Train Discriminator weights\u001b[39;00m\n\u001b[0;32m     <a href='vscode-notebook-cell:/c%3A/Users/kocan/OneDrive%20-%20dongguk.edu/%EC%BB%B4%EA%B3%B5/%EB%A8%B8%EC%8B%A0%EB%9F%AC%EB%8B%9D/%EA%B3%BC%EC%A0%9C/14%EC%A3%BC%EC%B0%A8/Week14_given_code.ipynb#X64sZmlsZQ%3D%3D?line=15'>16</a>\u001b[0m         discriminator\u001b[39m.\u001b[39mtrainable \u001b[39m=\u001b[39m \u001b[39mTrue\u001b[39;00m\n\u001b[0;32m     <a href='vscode-notebook-cell:/c%3A/Users/kocan/OneDrive%20-%20dongguk.edu/%EC%BB%B4%EA%B3%B5/%EB%A8%B8%EC%8B%A0%EB%9F%AC%EB%8B%9D/%EA%B3%BC%EC%A0%9C/14%EC%A3%BC%EC%B0%A8/Week14_given_code.ipynb#X64sZmlsZQ%3D%3D?line=17'>18</a>\u001b[0m         \u001b[39m# Real samples\u001b[39;00m\n",
            "\u001b[1;31mNameError\u001b[0m: name 'X_train' is not defined"
          ]
        }
      ],
      "source": [
        "epochs = 20\n",
        "batch_size = 64\n",
        "\n",
        "real = np.ones(shape=(batch_size, 1))\n",
        "fake = np.zeros(shape=(batch_size, 1))\n",
        "\n",
        "d_loss = []\n",
        "d_g_loss = []\n",
        "\n",
        "\n",
        "for e in range(epochs):\n",
        "    for i in range(len(X_train) // batch_size):\n",
        "\n",
        "        ###############################################################\n",
        "        # Train Discriminator weights\n",
        "        discriminator.trainable = True\n",
        "\n",
        "        # Real samples\n",
        "        X_batch = X_train[i * batch_size : (i + 1) * batch_size]\n",
        "        d_loss_real = discriminator.train_on_batch(x=X_batch, y=real)\n",
        "\n",
        "        # Fake Samples\n",
        "        z = np.random.normal(loc=0, scale=1, size=(batch_size, latent_dim))\n",
        "        X_fake = generator.predict_on_batch(z)\n",
        "        d_loss_fake = discriminator.train_on_batch(x=X_fake, y=fake)\n",
        "\n",
        "        # Discriminator loss\n",
        "        d_loss_batch = 0.5 * (d_loss_real[0] + d_loss_fake[0])\n",
        "\n",
        "        ###############################################################\n",
        "        # Train Generator weights\n",
        "        discriminator.trainable = False\n",
        "        d_g_loss_batch = d_g.train_on_batch(x=z, y=real)\n",
        "\n",
        "        # Show learning process\n",
        "        print(\n",
        "            \"epoch = %d/%d, batch = %d/%d, d_loss=%.3f, d_g_loss=%.3f\"\n",
        "            % (e + 1, epochs, i, len(X_train) // batch_size,\n",
        "                d_loss_batch, d_g_loss_batch[0],\n",
        "            ),\n",
        "            100 * \" \",\n",
        "            end=\"\\r\",\n",
        "        )\n",
        "\n",
        "    d_loss.append(d_loss_batch)\n",
        "    d_g_loss.append(d_g_loss_batch[0])\n",
        "    print(\n",
        "        \"epoch = %d/%d, d_loss=%.3f, g_loss=%.3f\"\n",
        "        % (e + 1, epochs, d_loss[-1], d_g_loss[-1]),\n",
        "        100 * \" \",\n",
        "    )\n",
        "\n",
        "    # show sample generation after each epoch\n",
        "    samples = 10\n",
        "    x_fake = generator.predict(z)\n",
        "\n",
        "    for k in range(samples):\n",
        "        plt.subplot(2, 5, k + 1)\n",
        "        plt.imshow(x_fake[k].reshape(28, 28), cmap=\"Greys\")\n",
        "        plt.xticks([])\n",
        "        plt.yticks([])\n",
        "        \n",
        "    plt.tight_layout()\n",
        "    plt.show()\n"
      ]
    },
    {
      "attachments": {},
      "cell_type": "markdown",
      "metadata": {
        "id": "m1A2yRbGNhWx"
      },
      "source": [
        "### Evaluate the GAN model"
      ]
    },
    {
      "cell_type": "code",
      "execution_count": null,
      "metadata": {
        "id": "HJaArXz3NhWy"
      },
      "outputs": [],
      "source": [
        "# plotting the metrics\n",
        "plt.plot(d_loss, color = 'yellow')\n",
        "plt.plot(d_g_loss, color = 'blue')\n",
        "plt.title('Model loss')\n",
        "plt.ylabel('Loss')\n",
        "plt.xlabel('Epoch')\n",
        "plt.legend(['Discriminator', 'Adversarial'], loc='upper right')\n",
        "plt.show()"
      ]
    },
    {
      "attachments": {},
      "cell_type": "markdown",
      "metadata": {
        "id": "6E68LKFINhWy"
      },
      "source": [
        "### Load trained generator\n",
        "*NOTE: load model from generator.h5 to avoid long training times*"
      ]
    },
    {
      "cell_type": "code",
      "execution_count": null,
      "metadata": {
        "id": "yaeeC-zSNhWy"
      },
      "outputs": [],
      "source": [
        "generator = keras.models.load_model('generator.h5')"
      ]
    },
    {
      "attachments": {},
      "cell_type": "markdown",
      "metadata": {
        "id": "7aWWHsqxNhWz"
      },
      "source": [
        "### Generate number-like fake images"
      ]
    },
    {
      "cell_type": "code",
      "execution_count": null,
      "metadata": {
        "id": "a16Yq179NhW0"
      },
      "outputs": [],
      "source": [
        "# Generate number-like images using trained generator\n",
        "samples = 10\n",
        "z = np.random.normal(loc=0, scale=1, size=(samples, latent_dim))\n",
        "x_fake = generator.predict(z)\n",
        " \n",
        "plt.figure(figsize=(8,8))\n",
        "for k in range(samples):\n",
        "        plt.subplot(1, 10, k + 1)\n",
        "        plt.imshow(x_fake[k].reshape(28, 28), cmap=\"Greys\")\n",
        "        plt.xticks([])\n",
        "        plt.yticks([])\n",
        "\n",
        "plt.tight_layout()\n",
        "plt.show()"
      ]
    },
    {
      "attachments": {},
      "cell_type": "markdown",
      "metadata": {
        "id": "WZJEFlFgNhW0"
      },
      "source": [
        "---"
      ]
    },
    {
      "attachments": {},
      "cell_type": "markdown",
      "metadata": {
        "id": "QqlmIQu0b2qQ"
      },
      "source": [
        "# 3. Q-Learning \n",
        "- On given GridWorldEnv\n",
        "- It provides\n",
        "  - env.step(action) : returns (next state, reward, terminated, info)"
      ]
    },
    {
      "attachments": {},
      "cell_type": "markdown",
      "metadata": {
        "id": "4IIhWY36NhW2"
      },
      "source": [
        "![image.png](attachment:image.png)"
      ]
    },
    {
      "attachments": {},
      "cell_type": "markdown",
      "metadata": {
        "id": "dCbRRA_eNhW2"
      },
      "source": [
        "### The agent"
      ]
    },
    {
      "attachments": {},
      "cell_type": "markdown",
      "metadata": {
        "id": "Y46kwBpWNhW3"
      },
      "source": [
        "![image.png](attachment:image.png)"
      ]
    },
    {
      "attachments": {},
      "cell_type": "markdown",
      "metadata": {
        "id": "nE3H2_HyNhW3"
      },
      "source": [
        "![image.png](attachment:image.png)\n",
        "![image-2.png](attachment:image-2.png)"
      ]
    },
    {
      "cell_type": "code",
      "execution_count": 1,
      "metadata": {
        "id": "OgM3gqanNhW4"
      },
      "outputs": [],
      "source": [
        "from collections import defaultdict\n",
        "import numpy as np\n",
        "\n",
        "class Agent(object):\n",
        "\n",
        "    def __init__(self, env, learning_rate=0.01, discount_factor=0.9, epsilon_greedy=0.9):\n",
        "        self.env = env\n",
        "        self.lr = learning_rate\n",
        "        self.gamma = discount_factor\n",
        "        self.epsilon = epsilon_greedy\n",
        "\n",
        "        # define the q_table\n",
        "        self.q_table = defaultdict(lambda: np.zeros(self.env.nA))\n",
        "\n",
        "    # choose action according to the Q values\n",
        "    def choose_action(self, state):\n",
        "        \n",
        "        # exploration - choose random action\n",
        "        if np.random.uniform() < self.epsilon:\n",
        "            action = np.random.choice(self.env.nA)\n",
        "            \n",
        "        # exploitation - choose action with max Q value\n",
        "        else:\n",
        "            q_vals = self.q_table[state]\n",
        "            actions = np.random.permutation(self.env.nA)\n",
        "            q_vals = [q_vals[a] for a in actions]\n",
        "            q_argmax = np.argmax(q_vals)\n",
        "            action = actions[q_argmax]\n",
        "        return action\n",
        "\n",
        "    # update Q values from experience (s, a, r, s')\n",
        "    def _learn(self, transition):\n",
        "        s, a, r, next_s, done = transition\n",
        "        q_val = self.q_table[s][a]\n",
        "        if done:\n",
        "            q_target = r\n",
        "        else:\n",
        "            q_target = r + self.gamma*np.max(self.q_table[next_s])\n",
        "\n",
        "        # Update the q_table\n",
        "        self.q_table[s][a] += self.lr * (q_target - q_val)"
      ]
    },
    {
      "attachments": {},
      "cell_type": "markdown",
      "metadata": {
        "id": "lZW587RHNhW5"
      },
      "source": [
        "### Q-learning on grid world"
      ]
    },
    {
      "cell_type": "code",
      "execution_count": 3,
      "metadata": {
        "id": "vmWDGOqfNhW5"
      },
      "outputs": [],
      "source": [
        "from gridworld_env import GridWorldEnv\n",
        "from collections import namedtuple\n",
        "import matplotlib.pyplot as plt\n",
        "import numpy as np\n",
        "\n",
        "np.random.seed(1)\n",
        "Transition = namedtuple(\n",
        "    'Transition', ('state', 'action', 'reward', 'next_state', 'done'))\n",
        "\n",
        "# Perform Q learning for given number of episodes\n",
        "def run_qlearning(agent, env, num_episodes=100):\n",
        "    \n",
        "    history = []\n",
        "    for episode in range(num_episodes+1):\n",
        "        state = env.reset()\n",
        "        env.render(mode='human')\n",
        "        \n",
        "        final_reward, n_moves = 0.0, 0\n",
        "        while True:\n",
        "            \n",
        "            # choose next action at current state (exploitation or exploration)\n",
        "            action = agent.choose_action(state)\n",
        "            \n",
        "            # result of the action - next state and reward\n",
        "            next_s, reward, done, _ = env.step(action)\n",
        "            \n",
        "            # Q learning from (s, a, r, s')\n",
        "            agent._learn(Transition(state, action, reward, next_s, done))\n",
        "            \n",
        "            env.render(mode='human', done=done)\n",
        "            state = next_s\n",
        "            n_moves += 1\n",
        "            if done:\n",
        "                break\n",
        "                \n",
        "            final_reward = reward\n",
        "            \n",
        "        history.append((n_moves, final_reward))\n",
        "        print('Episode %d: Reward %.1f #Moves %d' % (episode, final_reward, n_moves))\n",
        "\n",
        "    return history"
      ]
    },
    {
      "cell_type": "code",
      "execution_count": 4,
      "metadata": {
        "id": "EPepqdVLNhW6"
      },
      "outputs": [
        {
          "name": "stdout",
          "output_type": "stream",
          "text": [
            "Episode 0: Reward -1.0 #Moves 7\n",
            "Episode 1: Reward -1.0 #Moves 19\n",
            "Episode 2: Reward 1.0 #Moves 47\n",
            "Episode 3: Reward -1.0 #Moves 16\n",
            "Episode 4: Reward -1.0 #Moves 19\n",
            "Episode 5: Reward 1.0 #Moves 54\n",
            "Episode 6: Reward -1.0 #Moves 220\n",
            "Episode 7: Reward -1.0 #Moves 136\n",
            "Episode 8: Reward -1.0 #Moves 45\n",
            "Episode 9: Reward 1.0 #Moves 196\n",
            "Episode 10: Reward 1.0 #Moves 34\n",
            "Episode 11: Reward 1.0 #Moves 66\n",
            "Episode 12: Reward 1.0 #Moves 23\n",
            "Episode 13: Reward 1.0 #Moves 224\n",
            "Episode 14: Reward 1.0 #Moves 28\n",
            "Episode 15: Reward 1.0 #Moves 49\n",
            "Episode 16: Reward 1.0 #Moves 26\n",
            "Episode 17: Reward 1.0 #Moves 17\n",
            "Episode 18: Reward 1.0 #Moves 14\n",
            "Episode 19: Reward 1.0 #Moves 9\n",
            "Episode 20: Reward 1.0 #Moves 9\n",
            "Episode 21: Reward 1.0 #Moves 9\n",
            "Episode 22: Reward 1.0 #Moves 9\n",
            "Episode 23: Reward 1.0 #Moves 9\n",
            "Episode 24: Reward 1.0 #Moves 9\n",
            "Episode 25: Reward 1.0 #Moves 9\n",
            "Episode 26: Reward 1.0 #Moves 9\n",
            "Episode 27: Reward 1.0 #Moves 9\n",
            "Episode 28: Reward 1.0 #Moves 9\n",
            "Episode 29: Reward 1.0 #Moves 9\n",
            "Episode 30: Reward 1.0 #Moves 9\n"
          ]
        }
      ],
      "source": [
        "env = GridWorldEnv(num_rows=5, num_cols=6)\n",
        "agent = Agent(env, learning_rate=1.0, epsilon_greedy=0.0)\n",
        "\n",
        "history = run_qlearning(agent, env, num_episodes=30)\n",
        "env.close()"
      ]
    },
    {
      "attachments": {},
      "cell_type": "markdown",
      "metadata": {
        "id": "WuTrSwNINhW7"
      },
      "source": [
        "### Plot the learning history"
      ]
    },
    {
      "cell_type": "code",
      "execution_count": 5,
      "metadata": {
        "id": "MpXaPax2NhW7"
      },
      "outputs": [],
      "source": [
        "def plot_learning_history(history):\n",
        "    fig = plt.figure(1, figsize=(14, 10))\n",
        "    \n",
        "    ax = fig.add_subplot(2, 1, 1)\n",
        "    episodes = np.arange(len(history))\n",
        "    \n",
        "    moves = np.array([h[0] for h in history])\n",
        "    plt.plot(episodes, moves, marker='o', markersize=10)\n",
        "    \n",
        "    ax.tick_params(axis='both', which='major', labelsize=15)\n",
        "    plt.xlabel('Episodes', size=20)\n",
        "    plt.ylabel('# moves', size=20)\n",
        "\n",
        "    ax = fig.add_subplot(2, 1, 2)\n",
        "    \n",
        "    rewards = np.array([h[1] for h in history])\n",
        "    plt.step(episodes, rewards)\n",
        "    \n",
        "    ax.tick_params(axis='both', which='major', labelsize=15)\n",
        "    plt.xlabel('Episodes', size=20)\n",
        "    plt.ylabel('Final rewards', size=20)\n",
        "    plt.savefig('q-learning-history.png', dpi=300)\n",
        "    plt.show()"
      ]
    },
    {
      "cell_type": "code",
      "execution_count": 6,
      "metadata": {
        "id": "WI9QLnQwNhW9"
      },
      "outputs": [
        {
          "data": {
            "image/png": "[encoded data removed]",
            "text/plain": [
              "<Figure size 1008x720 with 2 Axes>"
            ]
          },
          "metadata": {
            "needs_background": "light"
          },
          "output_type": "display_data"
        }
      ],
      "source": [
        "plot_learning_history(history)"
      ]
    },
    {
      "attachments": {},
      "cell_type": "markdown",
      "metadata": {
        "id": "AE5JtmMlNhW_"
      },
      "source": [
        "---"
      ]
    },
    {
      "attachments": {},
      "cell_type": "markdown",
      "metadata": {
        "id": "qdd7aj9pNhXA"
      },
      "source": [
        "# Quiz 1: Encoding Fashion Images \n",
        "- Dataset : Fashion MNIST\n",
        "- To do\n",
        "  0. Load the dataset\n",
        "  1. Build the autoencoder model\n",
        "  2. Train the model\n",
        "  3. Show example original and decoded images\n",
        "  2. Plot the encoded data using t-SNE"
      ]
    },
    {
      "cell_type": "code",
      "execution_count": null,
      "metadata": {
        "id": "BWg_s7ZDNhXB"
      },
      "outputs": [],
      "source": [
        "import matplotlib.pyplot as plt\n",
        "import numpy as np\n",
        "\n",
        "import tensorflow as tf\n",
        "from tensorflow import keras\n",
        "from tensorflow.keras.datasets import fashion_mnist\n",
        "from tensorflow.keras.models import Sequential\n",
        "from tensorflow.keras.optimizers import Adam"
      ]
    },
    {
      "attachments": {},
      "cell_type": "markdown",
      "metadata": {
        "id": "dtY2AgsPNhXC"
      },
      "source": [
        "### Load Fashion MNIST dataset"
      ]
    },
    {
      "cell_type": "code",
      "execution_count": null,
      "metadata": {
        "id": "6I5HwyLhNhXC"
      },
      "outputs": [],
      "source": [
        "# load dataset\n",
        "(X_train, y_train), (X_test, y_test) = fashion_mnist.load_data()\n",
        "X_train = X_train.astype(np.float32) / 255\n",
        "X_test = X_test.astype(np.float32) / 255"
      ]
    },
    {
      "attachments": {},
      "cell_type": "markdown",
      "metadata": {
        "id": "U5UOR8JONhXC"
      },
      "source": [
        "### Build the autoencoder model"
      ]
    },
    {
      "cell_type": "code",
      "execution_count": null,
      "metadata": {
        "id": "CgRryYEhNhXD"
      },
      "outputs": [],
      "source": [
        "# build encoder with flatten input, 1 dense layer with 30 outputs, with relu activation\n",
        "# build decoder with 1 dense layer with 28*28 outputs with sigmoid activation, and reshape\n",
        "\n",
        "stacked_encoder = keras.models.Sequential([\n",
        "    keras.layers.Flatten(input_shape=[28, 28]),\n",
        "    keras.layers.Dense(30, activation=\"relu\"),\n",
        "])\n",
        "\n",
        "stacked_decoder = keras.models.Sequential([\n",
        "    keras.layers.Dense(28 * 28, activation=\"sigmoid\", input_shape=[30]),\n",
        "    keras.layers.Reshape([28, 28])\n",
        "])\n",
        "\n",
        "# build stacked autoencoder with encoder and decoder \n",
        "\n",
        "stacked_ae = keras.models.Sequential([stacked_encoder, stacked_decoder])\n",
        "\n",
        "# display the model\n",
        "stacked_ae.summary(expand_nested=True)"
      ]
    },
    {
      "attachments": {},
      "cell_type": "markdown",
      "metadata": {
        "id": "AeZVv8bANhXD"
      },
      "source": [
        "### Train the model"
      ]
    },
    {
      "cell_type": "code",
      "execution_count": null,
      "metadata": {
        "id": "ZT2Ge7L9NhXD"
      },
      "outputs": [],
      "source": [
        "# compile the model with SGD optimizer with learning rate 1.0, and binary_crossentropy loss\n",
        "stacked_ae.compile(loss=\"binary_crossentropy\", optimizer=keras.optimizers.SGD(learning_rate=1.0))\n",
        "\n",
        "# train the model. 10 epochs. record history\n",
        "history = stacked_ae.fit(X_train, X_train, epochs=10)"
      ]
    },
    {
      "attachments": {},
      "cell_type": "markdown",
      "metadata": {
        "id": "A3i91OiQNhXE"
      },
      "source": [
        "### Show 5 original and reconstructed image examples"
      ]
    },
    {
      "cell_type": "code",
      "execution_count": null,
      "metadata": {
        "id": "Kg3VkAbBNhXE"
      },
      "outputs": [],
      "source": [
        "def show_reconstructions(model, images=X_train, n_images=5):\n",
        "    reconstructions = model.predict(X_train)\n",
        "    \n",
        "    fig = plt.figure(figsize=(n_images * 1.5, 3))\n",
        "    for image_index in range(n_images):\n",
        "        plt.subplot(2, n_images, 1 + image_index)\n",
        "        plt.imshow(images[image_index], cmap=\"Greys\")\n",
        "        plt.subplot(2, n_images, 1 + n_images + image_index)\n",
        "        plt.imshow(reconstructions[image_index], cmap=\"Greys\")\n",
        "        \n",
        "show_reconstructions(stacked_ae)"
      ]
    },
    {
      "attachments": {},
      "cell_type": "markdown",
      "metadata": {
        "id": "4xDZbx8RNhXF"
      },
      "source": [
        "### Plot the encoded data using t-SNE"
      ]
    },
    {
      "cell_type": "code",
      "execution_count": null,
      "metadata": {
        "id": "UNoYbZtMNhXF"
      },
      "outputs": [],
      "source": [
        "from sklearn.manifold import TSNE\n",
        "\n",
        "X_test_compressed = stacked_encoder.predict(X_test[:300])\n",
        "\n",
        "tsne = TSNE()\n",
        "X_test_2D = tsne.fit_transform(X_test_compressed)"
      ]
    },
    {
      "cell_type": "code",
      "execution_count": null,
      "metadata": {
        "id": "3kbbr6WTNhXF"
      },
      "outputs": [],
      "source": [
        "colors = [\"blue\", \"orange\", \"green\", \"red\", \"purple\",\n",
        "          \"brown\", \"pink\", \"gray\", \"olive\",\"cyan\"]\n",
        "\n",
        "plt.scatter(X_test_2D[:, 0], X_test_2D[:, 1], c = y_test[:300], cmap=\"tab10\")\n",
        "plt.axis(\"off\")\n",
        "plt.show()"
      ]
    },
    {
      "attachments": {},
      "cell_type": "markdown",
      "metadata": {
        "id": "cQ3yyUruNhXG"
      },
      "source": [
        "---"
      ]
    },
    {
      "attachments": {},
      "cell_type": "markdown",
      "metadata": {
        "id": "60KSSplGNhXG"
      },
      "source": [
        "# Quiz 2: Generating Fashion-like Fake Images using GAN \n",
        "- Use Fashion MNIST as real images\n",
        "- To do\n",
        "  1. Build your own GAN model\n",
        "  2. Train the model\n",
        "  3. Generate fashion-like fake images"
      ]
    },
    {
      "cell_type": "code",
      "execution_count": null,
      "metadata": {
        "id": "qBftNiLsNhXH"
      },
      "outputs": [],
      "source": [
        "import numpy as np\n",
        "import matplotlib.pyplot as plt\n",
        "import tensorflow as tf\n",
        "\n",
        "from tensorflow.keras import initializers\n",
        "from tensorflow.keras.datasets import fashion_mnist\n",
        "from tensorflow.keras.layers import BatchNormalization, Dense, LeakyReLU, Dropout\n",
        "from tensorflow.keras.models import Sequential\n",
        "from tensorflow.keras.optimizers import Adam"
      ]
    },
    {
      "attachments": {},
      "cell_type": "markdown",
      "metadata": {
        "id": "G7qgiDD1NhXH"
      },
      "source": [
        "### Get the real images (Fashion MNIST)"
      ]
    },
    {
      "cell_type": "code",
      "execution_count": null,
      "metadata": {
        "id": "qxmNrpP8NhXI"
      },
      "outputs": [],
      "source": [
        "# load dataset\n",
        "(X_train, y_train), (X_test, y_test) = fashion_mnist.load_data()"
      ]
    },
    {
      "attachments": {},
      "cell_type": "markdown",
      "metadata": {
        "id": "tXua9cP7NhXI"
      },
      "source": [
        "### Reshaping and Normalizing Inputs"
      ]
    },
    {
      "cell_type": "code",
      "execution_count": null,
      "metadata": {
        "id": "UKIhccMcNhXI"
      },
      "outputs": [],
      "source": [
        "print('X_train shape', X_train.shape)\n",
        "\n",
        "# reshaping the inputs\n",
        "X_train = X_train.reshape(-1, 28*28)\n",
        "\n",
        "# normalizing the inputs (-1, 1)\n",
        "X_train = (X_train.astype('float32') / 255 - 0.5) * 2\n",
        "\n",
        "print('X_train reshape:', X_train.shape)"
      ]
    },
    {
      "attachments": {},
      "cell_type": "markdown",
      "metadata": {
        "id": "d_KFeuz0NhXJ"
      },
      "source": [
        "### Build Generator"
      ]
    },
    {
      "cell_type": "code",
      "execution_count": null,
      "metadata": {
        "id": "xMf6bf_QNhXJ"
      },
      "outputs": [],
      "source": [
        "# latent space dimension\n",
        "latent_dim = 100\n",
        "\n",
        "# imagem dimension 28x28\n",
        "img_dim = 784\n",
        "\n",
        "init = initializers.RandomNormal(stddev=0.02)\n",
        "\n",
        "# Generator network\n",
        "\n",
        "generator = Sequential()\n",
        "\n",
        "# Input layer and hidden layer 1\n",
        "generator.add(Dense(128, input_shape=(latent_dim,), kernel_initializer=init))\n",
        "generator.add(LeakyReLU(alpha=0.2))\n",
        "generator.add(BatchNormalization(momentum=0.8))\n",
        "\n",
        "# Hidden layer 2\n",
        "generator.add(Dense(256))\n",
        "generator.add(LeakyReLU(alpha=0.2))\n",
        "generator.add(BatchNormalization(momentum=0.8))\n",
        "\n",
        "# Hidden layer 3\n",
        "generator.add(Dense(512))\n",
        "generator.add(LeakyReLU(alpha=0.2))\n",
        "generator.add(BatchNormalization(momentum=0.8))\n",
        "\n",
        "# Output layer \n",
        "generator.add(Dense(img_dim, activation='tanh'))\n",
        "\n",
        "# prints a summary representation of your model\n",
        "generator.summary()"
      ]
    },
    {
      "attachments": {},
      "cell_type": "markdown",
      "metadata": {
        "id": "X295msm6NhXJ"
      },
      "source": [
        "### Build Discriminator"
      ]
    },
    {
      "cell_type": "code",
      "execution_count": null,
      "metadata": {
        "id": "tWN0fhcGNhXK"
      },
      "outputs": [],
      "source": [
        "# Discriminator network\n",
        "discriminator = Sequential()\n",
        "\n",
        "# Input layer and hidden layer 1\n",
        "discriminator.add(Dense(128, input_shape=(img_dim,), kernel_initializer=init))\n",
        "discriminator.add(LeakyReLU(alpha=0.2))\n",
        "\n",
        "# Hidden layer 2\n",
        "discriminator.add(Dense(256))\n",
        "discriminator.add(LeakyReLU(alpha=0.2))\n",
        "\n",
        "# Hidden layer 3\n",
        "discriminator.add(Dense(512))\n",
        "discriminator.add(LeakyReLU(alpha=0.2))\n",
        "\n",
        "# Output layer\n",
        "discriminator.add(Dense(1, activation='sigmoid'))\n",
        "\n",
        "# prints a summary representation of your model\n",
        "discriminator.summary()"
      ]
    },
    {
      "attachments": {},
      "cell_type": "markdown",
      "metadata": {
        "id": "UTjUdwP8NhXK"
      },
      "source": [
        "### Compile Discriminator"
      ]
    },
    {
      "cell_type": "code",
      "execution_count": null,
      "metadata": {
        "id": "h0oYLm8ENhXK"
      },
      "outputs": [],
      "source": [
        "# compile discriminator \n",
        "optimizer = tf.keras.optimizers.legacy.Adam(learning_rate=0.0002, beta_1=0.5)\n",
        "\n",
        "discriminator.compile(optimizer=optimizer, loss='binary_crossentropy', metrics=['binary_accuracy'])"
      ]
    },
    {
      "attachments": {},
      "cell_type": "markdown",
      "metadata": {
        "id": "irZSKG38NhXL"
      },
      "source": [
        "### Build GAN"
      ]
    },
    {
      "cell_type": "code",
      "execution_count": null,
      "metadata": {
        "id": "XcafRslONhXL"
      },
      "outputs": [],
      "source": [
        "# build GAN model\n",
        "discriminator.trainable = False\n",
        "\n",
        "d_g = Sequential()\n",
        "d_g.add(generator)\n",
        "d_g.add(discriminator)"
      ]
    },
    {
      "attachments": {},
      "cell_type": "markdown",
      "metadata": {
        "id": "LVcizBuLNhXL"
      },
      "source": [
        "### Compile GAN"
      ]
    },
    {
      "cell_type": "code",
      "execution_count": null,
      "metadata": {
        "id": "HOqbMKm8NhXM"
      },
      "outputs": [],
      "source": [
        "# compile GAN model\n",
        "d_g.compile(optimizer=optimizer, loss='binary_crossentropy', metrics=['binary_accuracy'])"
      ]
    },
    {
      "attachments": {},
      "cell_type": "markdown",
      "metadata": {
        "id": "mYKJ5S-bNhXM"
      },
      "source": [
        "### Train GAN\n",
        "- Show intermediate generation results"
      ]
    },
    {
      "cell_type": "code",
      "execution_count": null,
      "metadata": {
        "id": "9KAYnhz3NhXM"
      },
      "outputs": [],
      "source": [
        "epochs = 20\n",
        "batch_size = 64\n",
        "\n",
        "real = np.ones(shape=(batch_size, 1))\n",
        "fake = np.zeros(shape=(batch_size, 1))\n",
        "\n",
        "d_loss = []\n",
        "d_g_loss = []\n",
        "\n",
        "\n",
        "for e in range(epochs):\n",
        "    for i in range(len(X_train) // batch_size):\n",
        "\n",
        "        ###############################################################\n",
        "        # Train Discriminator weights\n",
        "        discriminator.trainable = True\n",
        "\n",
        "        # Real samples\n",
        "        X_batch = X_train[i * batch_size : (i + 1) * batch_size]\n",
        "        d_loss_real = discriminator.train_on_batch(x=X_batch, y=real)\n",
        "\n",
        "        # Fake Samples\n",
        "        z = np.random.normal(loc=0, scale=1, size=(batch_size, latent_dim))\n",
        "        X_fake = generator.predict_on_batch(z)\n",
        "        d_loss_fake = discriminator.train_on_batch(x=X_fake, y=fake)\n",
        "\n",
        "        # Discriminator loss\n",
        "        d_loss_batch = 0.5 * (d_loss_real[0] + d_loss_fake[0])\n",
        "\n",
        "        ###############################################################\n",
        "        # Train Generator weights\n",
        "        discriminator.trainable = False\n",
        "        d_g_loss_batch = d_g.train_on_batch(x=z, y=real)\n",
        "\n",
        "        # Show learning process\n",
        "        print(\n",
        "            \"epoch = %d/%d, batch = %d/%d, d_loss=%.3f, d_g_loss=%.3f\"\n",
        "            % (e + 1, epochs, i, len(X_train) // batch_size,\n",
        "                d_loss_batch, d_g_loss_batch[0],\n",
        "            ),\n",
        "            100 * \" \",\n",
        "            end=\"\\r\",\n",
        "        )\n",
        "\n",
        "    d_loss.append(d_loss_batch)\n",
        "    d_g_loss.append(d_g_loss_batch[0])\n",
        "    print(\n",
        "        \"epoch = %d/%d, d_loss=%.3f, d_g_loss=%.3f\"\n",
        "        % (e + 1, epochs, d_loss[-1], d_g_loss[-1]),\n",
        "        100 * \" \",\n",
        "    )\n",
        "\n",
        "    # show sample generation after each epoch\n",
        "    samples = 10\n",
        "    x_fake = generator.predict(np.random.normal(loc=0, scale=1, size=(samples, latent_dim)))\n",
        "\n",
        "    for k in range(samples):\n",
        "        plt.subplot(2, 5, k + 1)\n",
        "        plt.imshow(x_fake[k].reshape(28, 28), cmap=\"Greys\")\n",
        "        plt.xticks([])\n",
        "        plt.yticks([])\n",
        "        \n",
        "    plt.tight_layout()\n",
        "    plt.show()\n"
      ]
    },
    {
      "cell_type": "code",
      "execution_count": null,
      "metadata": {
        "id": "Gl5aT5JnNhXO"
      },
      "outputs": [],
      "source": []
    }
  ],
  "metadata": {
    "accelerator": "GPU",
    "colab": {
      "provenance": []
    },
    "kernelspec": {
      "display_name": "Python 3 (ipykernel)",
      "language": "python",
      "name": "python3"
    },
    "language_info": {
      "codemirror_mode": {
        "name": "ipython",
        "version": 3
      },
      "file_extension": ".py",
      "mimetype": "text/x-python",
      "name": "python",
      "nbconvert_exporter": "python",
      "pygments_lexer": "ipython3",
      "version": "3.6.7"
    }
  },
  "nbformat": 4,
  "nbformat_minor": 0
}
